{
  "nbformat": 4,
  "nbformat_minor": 0,
  "metadata": {
    "kernelspec": {
      "display_name": "Python 3",
      "language": "python",
      "name": "python3"
    },
    "colab": {
      "name": "Linear Regression Annual Discharge SA River.ipynb",
      "provenance": [],
      "collapsed_sections": [
        "-oz-gVRQhodq",
        "rTOo9C4AhuAR",
        "73X-uGEWhzL7",
        "GBAKnLbikGox",
        "JhRv7Vz8kqg2",
        "vNDexnBJCMdU",
        "IqfaeMzpCi_K"
      ],
      "toc_visible": true,
      "include_colab_link": true
    }
  },
  "cells": [
    {
      "cell_type": "markdown",
      "metadata": {
        "id": "view-in-github",
        "colab_type": "text"
      },
      "source": [
        "<a href=\"https://colab.research.google.com/github/9characters/Artificial-Intelligence/blob/master/Linear_Regression_Annual_Discharge_SA_River.ipynb\" target=\"_parent\"><img src=\"https://colab.research.google.com/assets/colab-badge.svg\" alt=\"Open In Colab\"/></a>"
      ]
    },
    {
      "cell_type": "markdown",
      "metadata": {
        "id": "-oz-gVRQhodq"
      },
      "source": [
        "# Importing Dataset"
      ]
    },
    {
      "cell_type": "code",
      "metadata": {
        "id": "S0-DJ-G2P_m9"
      },
      "source": [
        "import numpy as np\n",
        "from sklearn.linear_model import LinearRegression\n",
        "import matplotlib.pyplot as plt\n",
        "import pandas as pd"
      ],
      "execution_count": 2,
      "outputs": []
    },
    {
      "cell_type": "code",
      "metadata": {
        "id": "83Any9B_l22a"
      },
      "source": [
        "import plotly.graph_objects as go\r\n",
        "# To install the package: pip install plotly\r\n",
        "# P.S. Don't run the line if interactive plot below is not required"
      ],
      "execution_count": 3,
      "outputs": []
    },
    {
      "cell_type": "markdown",
      "metadata": {
        "id": "rTOo9C4AhuAR"
      },
      "source": [
        "# Reading and processing the dataset"
      ]
    },
    {
      "cell_type": "code",
      "metadata": {
        "id": "WSyKdWxaP_nG"
      },
      "source": [
        "orig_dataset = pd.read_csv(\"Q_Day_San_Antonio_River.csv\", skiprows=37, names=[\"Date\", \"Time\", \"Value\"], delimiter=\";\", usecols=[0,2])"
      ],
      "execution_count": 19,
      "outputs": []
    },
    {
      "cell_type": "code",
      "metadata": {
        "id": "g-O66ILHP_nH"
      },
      "source": [
        "# Removing the rows with Values: -999.000\n",
        "drop_indices = orig_dataset[orig_dataset['Value'] == -999.000].index\n",
        "orig_dataset.drop(drop_indices, inplace = True)"
      ],
      "execution_count": 20,
      "outputs": []
    },
    {
      "cell_type": "code",
      "metadata": {
        "id": "Zngt1zYmP_nI"
      },
      "source": [
        "dataset = orig_dataset.copy()\r\n",
        "dataset['Date'] = pd.to_datetime(dataset['Date'])"
      ],
      "execution_count": 21,
      "outputs": []
    },
    {
      "cell_type": "markdown",
      "metadata": {
        "id": "73X-uGEWhzL7"
      },
      "source": [
        "#Linear Regression Analysis with respect to Mean Annual Discharge (MQ)"
      ]
    },
    {
      "cell_type": "code",
      "metadata": {
        "id": "h37FmJ0Xh5Y9"
      },
      "source": [
        "# Processing the dataset with respect to MQ\r\n",
        "MQ = dataset.resample('Y', on='Date').mean().reset_index()\r\n",
        "MQ['Date'] = pd.DatetimeIndex(MQ['Date']).year\r\n",
        "MQ.rename(columns = {\"Date\": \"Year\"}, inplace = True)\r\n",
        "MQ = MQ.dropna()"
      ],
      "execution_count": null,
      "outputs": []
    },
    {
      "cell_type": "code",
      "metadata": {
        "id": "-Im1PS1JiAsh"
      },
      "source": [
        "# Splitting into dependent(y) and Independent(X) variables\r\n",
        "X, y = MQ.iloc[:,0].values, MQ.iloc[:,1].values\r\n",
        "X = np.expand_dims(X, axis=1)"
      ],
      "execution_count": null,
      "outputs": []
    },
    {
      "cell_type": "code",
      "metadata": {
        "id": "v9UGBK83iDb5"
      },
      "source": [
        "# Using the scikit-learn Linear Regression model to predict the values\r\n",
        "MQ_LR_model = LinearRegression()\r\n",
        "MQ_history = MQ_LR_model.fit(X, y)\r\n",
        "y_pred = MQ_LR_model.predict(X)"
      ],
      "execution_count": null,
      "outputs": []
    },
    {
      "cell_type": "code",
      "metadata": {
        "id": "M7Z6FAQWjWc6"
      },
      "source": [
        "# Display Coefficient and Intercept\r\n",
        "print(f\"Coefficient: {round(MQ_history.coef_[0],3)}\")\r\n",
        "print(f\"Intercept: {round(MQ_history.intercept_,3)}\")\r\n",
        "\r\n",
        "# Scatter-Line Plot\r\n",
        "plt.scatter(X, y, color='blue')\r\n",
        "plt.plot(X, y_pred, color='red')\r\n",
        "plt.title(\"Mean Annual Discharge(MQ) of San Antonio River\")\r\n",
        "plt.xlabel(\"Year\")\r\n",
        "plt.ylabel(\"Discharge 'Cum/s' \")\r\n",
        "plt.savefig(f'MQ_Curve.png', dpi=150)\r\n",
        "plt.show()"
      ],
      "execution_count": null,
      "outputs": []
    },
    {
      "cell_type": "code",
      "metadata": {
        "id": "arERpdyvj6TV"
      },
      "source": [
        "'''\r\n",
        "Interactive Plot showing the actual MQ and predicted MQ using LR in the given year\r\n",
        "Format: (Actual, Predicted)\r\n",
        "         Year\r\n",
        "'''\r\n",
        "fig = go.Figure()\r\n",
        "fig.add_trace(go.Scatter(x=y, y=y_pred, mode='markers', text=X[:,0]))\r\n",
        "fig.update_layout(title_text = \"Mean Annual Discharge\")\r\n",
        "fig.show()"
      ],
      "execution_count": null,
      "outputs": []
    },
    {
      "cell_type": "code",
      "metadata": {
        "id": "wNon1DNfiFp8"
      },
      "source": [
        "# Saving the Actual and Predicted Values in a CSV File\r\n",
        "df = pd.DataFrame()\r\n",
        "df[\"Year\"] = X.flatten().astype(int)\r\n",
        "df[\"Actual MQ\"] = np.round(y, 3)\r\n",
        "df[\"Predicted MQ\"] = np.round(y_pred, 3)\r\n",
        "df.to_csv(\"MQ Actual vs Predicted.csv\", index=False)"
      ],
      "execution_count": null,
      "outputs": []
    },
    {
      "cell_type": "markdown",
      "metadata": {
        "id": "GBAKnLbikGox"
      },
      "source": [
        "#Linear Regression Analysis with respect to Maximum Annual Discharge (maxQ)"
      ]
    },
    {
      "cell_type": "code",
      "metadata": {
        "id": "iUbe1sgbkPyv"
      },
      "source": [
        "# Processing the dataset with respect to maxQ\r\n",
        "maxQ = dataset.resample('Y', on='Date').max().reset_index(drop=\"True\")\r\n",
        "maxQ['Date'] = pd.DatetimeIndex(maxQ['Date']).year\r\n",
        "maxQ.rename(columns = {\"Date\": \"Year\"}, inplace = True)\r\n",
        "maxQ = maxQ.dropna()"
      ],
      "execution_count": null,
      "outputs": []
    },
    {
      "cell_type": "code",
      "metadata": {
        "id": "4lWVaj6HkSdk"
      },
      "source": [
        "# Splitting into dependent(y) and Independent(X) variables\r\n",
        "X, y = maxQ.iloc[:,0].values, maxQ.iloc[:,1].values\r\n",
        "X = np.expand_dims(X, axis=1)"
      ],
      "execution_count": null,
      "outputs": []
    },
    {
      "cell_type": "code",
      "metadata": {
        "id": "aZKHgaxakVbR"
      },
      "source": [
        "# Using the scikit-learn Linear Regression model to predict the values\r\n",
        "maxQ_LR_model = LinearRegression()\r\n",
        "maxQ_history = maxQ_LR_model.fit(X, y)\r\n",
        "y_pred = maxQ_LR_model.predict(X)"
      ],
      "execution_count": null,
      "outputs": []
    },
    {
      "cell_type": "code",
      "metadata": {
        "id": "bu9bAQOOkbr5"
      },
      "source": [
        "print(f\"Coefficient: {round(maxQ_history.coef_[0],3)}\")\r\n",
        "print(f\"Intercept: {round(maxQ_history.intercept_,3)}\")\r\n",
        "\r\n",
        "# Scatter-Line Plot\r\n",
        "plt.scatter(X, y, color='blue')\r\n",
        "plt.plot(X, y_pred, color='red')\r\n",
        "plt.title(\"Maximum Annual Discharge(maxQ) of San Antonio River\")\r\n",
        "plt.xlabel(\"Year\")\r\n",
        "plt.ylabel(\"Dishcharge 'Cum/s' \")\r\n",
        "plt.savefig(f'maxQ_Curve.png', dpi=150)\r\n",
        "plt.show()"
      ],
      "execution_count": null,
      "outputs": []
    },
    {
      "cell_type": "code",
      "metadata": {
        "id": "k4N3_imuP_nJ"
      },
      "source": [
        "'''\r\n",
        "Interactive Plot showing the actual maxQ and predicted maxQ using LR in the given year\r\n",
        "Format: (Actual, Predicted)\r\n",
        "         Year\r\n",
        "'''\r\n",
        "fig = go.Figure()\r\n",
        "fig.add_trace(go.Scatter(x=y, y=y_pred, mode='markers', text=X[:,0]))\r\n",
        "fig.update_layout(title_text = \"Maximum Annual Discharge\")\r\n",
        "fig.show()"
      ],
      "execution_count": null,
      "outputs": []
    },
    {
      "cell_type": "code",
      "metadata": {
        "id": "rAOS2cAtkYc0"
      },
      "source": [
        "# Saving the Actual and Predicted Values in a CSV File\r\n",
        "df = pd.DataFrame()\r\n",
        "df[\"Year\"] = X.flatten().astype(int)\r\n",
        "df[\"Actual maxQ\"] = np.round(y, 3)\r\n",
        "df[\"Predicted maxQ\"] = np.round(y_pred, 3)\r\n",
        "df.to_csv(\"maxQ Actual vs Predicted.csv\", index=False)"
      ],
      "execution_count": null,
      "outputs": []
    },
    {
      "cell_type": "markdown",
      "metadata": {
        "id": "JhRv7Vz8kqg2"
      },
      "source": [
        "#Linear Regression Analysis with respect to Minimum Annual Discharge (minQ)"
      ]
    },
    {
      "cell_type": "code",
      "metadata": {
        "id": "yCNJpa2Ek5Cm"
      },
      "source": [
        "# Processing the dataset with respect to minQ\r\n",
        "minQ = dataset.resample('Y', on='Date').min().reset_index(drop=\"True\")\r\n",
        "minQ['Date'] = pd.DatetimeIndex(minQ['Date']).year\r\n",
        "minQ.rename(columns = {\"Date\": \"Year\"}, inplace = True)\r\n",
        "minQ = minQ.dropna()"
      ],
      "execution_count": null,
      "outputs": []
    },
    {
      "cell_type": "code",
      "metadata": {
        "id": "Y2sRaNcgk6vk"
      },
      "source": [
        "# Splitting into dependent(y) and Independent(X) variables\r\n",
        "X, y = minQ.iloc[:,0].values, minQ.iloc[:,1].values\r\n",
        "X = np.expand_dims(X, axis=1)"
      ],
      "execution_count": null,
      "outputs": []
    },
    {
      "cell_type": "code",
      "metadata": {
        "id": "nH6hCJLQk8vP"
      },
      "source": [
        "# Using the scikit-learn Linear Regression model to predict the values\r\n",
        "minQ_LR_model = LinearRegression()\r\n",
        "minQ_history = minQ_LR_model.fit(X, y)\r\n",
        "y_pred = minQ_LR_model.predict(X)"
      ],
      "execution_count": null,
      "outputs": []
    },
    {
      "cell_type": "code",
      "metadata": {
        "id": "-2lCYwABlDci"
      },
      "source": [
        "print(f\"Coefficient: {round(minQ_history.coef_[0],3)}\")\r\n",
        "print(f\"Intercept: {round(minQ_history.intercept_,3)}\")\r\n",
        "\r\n",
        "# Scatter-Line Plot\r\n",
        "plt.scatter(X, y, color='blue')\r\n",
        "plt.plot(X, y_pred, color='red')\r\n",
        "plt.title(\"Minumum Annual Discharge(minQ) of San Antonio River\")\r\n",
        "plt.xlabel(\"Year\")\r\n",
        "plt.ylabel(\"Dishcharge 'Cum/s' \")\r\n",
        "plt.savefig(f'minQ_Curve.png', dpi=150)\r\n",
        "plt.show()"
      ],
      "execution_count": null,
      "outputs": []
    },
    {
      "cell_type": "code",
      "metadata": {
        "id": "Ln1u2ZkhQ0Uu"
      },
      "source": [
        "'''\r\n",
        "Interactive Plot showing the actual MQ and predicted MQ using LR in the given year\r\n",
        "Format: (Actual, Predicted)\r\n",
        "         Year\r\n",
        "'''\r\n",
        "fig = go.Figure()\r\n",
        "fig.add_trace(go.Scatter(x=y, y=y_pred, mode='markers', text=X[:,0]))\r\n",
        "fig.update_layout(title_text = \"LR\")\r\n",
        "fig.show()"
      ],
      "execution_count": null,
      "outputs": []
    },
    {
      "cell_type": "code",
      "metadata": {
        "id": "iNzfoKVAlBxR"
      },
      "source": [
        "# Saving the Actual and Predicted Values in a CSV File\r\n",
        "df = pd.DataFrame()\r\n",
        "df[\"Year\"] = X.flatten().astype(int)\r\n",
        "df[\"Actual minQ\"] = np.round(y, 3)\r\n",
        "df[\"Predicted minQ\"] = np.round(y_pred, 3)\r\n",
        "df.to_csv(\"minQ Actual vs Predicted.csv\", index=False)"
      ],
      "execution_count": null,
      "outputs": []
    },
    {
      "cell_type": "markdown",
      "metadata": {
        "id": "vNDexnBJCMdU"
      },
      "source": [
        "#To get the date of maximum flow"
      ]
    },
    {
      "cell_type": "code",
      "metadata": {
        "id": "ekWyDpFD_zzv"
      },
      "source": [
        "import pandas as pd\r\n",
        "import numpy as npf\r\n",
        "\r\n",
        "# Reading the dataset\r\n",
        "orig_dataset = pd.read_csv(\"Q_Day_San_Antonio_River.csv\", skiprows=37, names=[\"Date\", \"Time\", \"Value\"], delimiter=\";\", usecols=[0,2])\r\n",
        "\r\n",
        "# Removing the rows with Values: -999.000\r\n",
        "drop_indices = orig_dataset[orig_dataset['Value'] == -999.000].index\r\n",
        "orig_dataset.drop(drop_indices, inplace = True)\r\n",
        "\r\n",
        "# Making the copy of the dataset so that original dataset is not altered and dropping the NaN values if any\r\n",
        "test = orig_dataset.copy()\r\n",
        "test = test.dropna()\r\n",
        "\r\n",
        "# Converting into python lists\r\n",
        "values = list(test['Value'])\r\n",
        "dates = list(test['Date'])\r\n",
        "\r\n",
        "# Now we also need years to compare so extracting the years -> Some years might be eliminated while removing -999.000\r\n",
        "test['Date'] = pd.to_datetime(test['Date'])\r\n",
        "test = test.resample('Y', on='Date').mean().reset_index()\r\n",
        "test['Date'] = pd.DatetimeIndex(test['Date']).year\r\n",
        "test.rename(columns = {\"Date\": \"Year\"}, inplace = True)\r\n",
        "test = test.dropna()\r\n",
        "\r\n",
        "# Converting into python list\r\n",
        "years = list(test['Year'])\r\n",
        "\r\n",
        "# List to store the (max_date, max_value) combination\r\n",
        "data_list = list()\r\n",
        "\r\n",
        "# Looping over the years\r\n",
        "for year in years:\r\n",
        "\r\n",
        "\t# Using list comprehension to extract only the the date and values for the given year in the loop\r\n",
        "    temp_list = [(date, value) for date, value in zip(dates, values) if int(date.split('-')[0]) == year]\r\n",
        "\r\n",
        "    # Making 2 separate list of dates and values for the given year and finding the max index\r\n",
        "    max_value_index = np.argmax(list(zip(*temp_list))[1])\r\n",
        "\r\n",
        "    # Getting the max_date and max_value using max_index\r\n",
        "    max_date, max_value = temp_list[max_value_index]\r\n",
        "\r\n",
        "    # Adding the max_date and max_value in the data_list\r\n",
        "    data_list.append((max_date, max_value))\r\n",
        "    print(f\"Year {year}: Done\")\r\n",
        "\r\n",
        "# Creating a pandas dataframe and adding the data_list into a CSV File\r\n",
        "max_df = pd.DataFrame(data_list, columns=['Max Date', 'Max Value'])\r\n",
        "max_df.to_csv(\"Date with max Values.csv\", index=False)"
      ],
      "execution_count": null,
      "outputs": []
    },
    {
      "cell_type": "markdown",
      "metadata": {
        "id": "IqfaeMzpCi_K"
      },
      "source": [
        "#To get the number of days exceeding MHQ and not reaching MLQ\r\n",
        "\r\n",
        "First, we need to find the MHQ and MLQ.\r\n",
        "\r\n",
        "MHQ: Mean of all the max values in the timeseries\r\n",
        "\r\n",
        "MLQ: Mean of all the min values in the timeseries"
      ]
    },
    {
      "cell_type": "code",
      "metadata": {
        "id": "JGlAuqVNDOG-"
      },
      "source": [
        "import pandas as pd\r\n",
        "import numpy as np\r\n",
        "\r\n",
        "orig_dataset = pd.read_csv(\"Q_Day_San_Antonio_River.csv\", skiprows=37, names=[\"Date\", \"Time\", \"Value\"], delimiter=\";\", usecols=[0,2])\r\n",
        "\r\n",
        "# Removing the rows with Values: -999.000\r\n",
        "drop_indices = orig_dataset[orig_dataset['Value'] == -999.000].index\r\n",
        "orig_dataset.drop(drop_indices, inplace = True)\r\n",
        "\r\n",
        "# Making the copy of the original dataset\r\n",
        "test = orig_dataset.copy()\r\n",
        "\r\n",
        "# Converting to pandas understandable datetime format\r\n",
        "test['Date'] = pd.to_datetime(test['Date'])\r\n",
        "test = test.dropna()\r\n",
        "\r\n",
        "# Getting the maximum and minimum values for each year\r\n",
        "maxQ = (test.resample('Y', on='Date').max().reset_index(drop=\"True\")).dropna()\r\n",
        "minQ = (test.resample('Y', on='Date').min().reset_index(drop=\"True\")).dropna()\r\n",
        "\r\n",
        "# Getting the MHQ and MLQ values\r\n",
        "MHQ = np.mean(maxQ['Value'])\r\n",
        "MLQ = np.mean(minQ['Value'])\r\n",
        "\r\n",
        "# Now we also need years to compare so extracting the years -> Some years might be eliminated while removing -999.000\r\n",
        "test['Date'] = pd.to_datetime(test['Date'])\r\n",
        "test = test.resample('Y', on='Date').mean().reset_index()\r\n",
        "test['Date'] = pd.DatetimeIndex(test['Date']).year\r\n",
        "test.rename(columns = {\"Date\": \"Year\"}, inplace = True)\r\n",
        "test = test.dropna()\r\n",
        "\r\n",
        "# Converting into python list\r\n",
        "years = list(test['Year'])\r\n",
        "\r\n",
        "# List to store the (Year, No of days) combination\r\n",
        "data_list = list()\r\n",
        "\r\n",
        "# Looping over the years\r\n",
        "for year in years:\r\n",
        "\r\n",
        "    # Initializing the counter\r\n",
        "    counter = 0\r\n",
        "\r\n",
        "    # Looping over the date and values\r\n",
        "    for date, value in zip(dates, values):\r\n",
        "\r\n",
        "        # Checking if the date belongs the \"year\" in the main loop, and value is not in the range (MHQ, MLQ)\r\n",
        "        if (int(date.split('-')[0]) == year) and ((value > MHQ) or (value < MLQ)):\r\n",
        "            counter += 1\r\n",
        "    \r\n",
        "    data_list.append((year, counter))\r\n",
        "    print(f\"Year {year}: Done\")\r\n",
        "\r\n",
        "# Creating a pandas dataframe and adding the data_list into a CSV File\r\n",
        "max_df = pd.DataFrame(data_list, columns=['Year', 'No of Days'])\r\n",
        "max_df.to_csv(\"MHQ MLQ range count.csv\", index=False)"
      ],
      "execution_count": null,
      "outputs": []
    }
  ]
}