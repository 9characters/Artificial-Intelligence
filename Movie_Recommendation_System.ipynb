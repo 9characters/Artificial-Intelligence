{
  "nbformat": 4,
  "nbformat_minor": 0,
  "metadata": {
    "colab": {
      "name": "Movie Recommendation System.ipynb",
      "provenance": [],
      "collapsed_sections": [],
      "include_colab_link": true
    },
    "kernelspec": {
      "name": "python3",
      "display_name": "Python 3"
    }
  },
  "cells": [
    {
      "cell_type": "markdown",
      "metadata": {
        "id": "view-in-github",
        "colab_type": "text"
      },
      "source": [
        "<a href=\"https://colab.research.google.com/github/9characters/Project/blob/master/Movie_Recommendation_System.ipynb\" target=\"_parent\"><img src=\"https://colab.research.google.com/assets/colab-badge.svg\" alt=\"Open In Colab\"/></a>"
      ]
    },
    {
      "cell_type": "code",
      "metadata": {
        "id": "XYEf46mv_GiV",
        "colab_type": "code",
        "colab": {}
      },
      "source": [
        " from sklearn.feature_extraction.text import CountVectorizer\n",
        " from sklearn.metrics.pairwise import cosine_similarity\n",
        "# text = [\"London Paris London\", \"Paris Paris London\"]\n",
        "# cv = CountVectorizer()\n",
        "\n",
        "# count_matrix = cv.fit_transform(text)\n",
        "# # print(count_matrix.toarray())\n",
        "\n",
        "# similarity_scores = cosine_similarity(count_matrix)\n",
        "# print(similarity_scores)"
      ],
      "execution_count": 0,
      "outputs": []
    },
    {
      "cell_type": "code",
      "metadata": {
        "id": "tyVCHjOAXMjN",
        "colab_type": "code",
        "outputId": "17fed042-f3d8-4004-d110-2dd00f4abb4b",
        "colab": {
          "base_uri": "https://localhost:8080/",
          "height": 102
        }
      },
      "source": [
        "!git clone https://github.com/codeheroku/Introduction-to-Machine-Learning"
      ],
      "execution_count": 0,
      "outputs": [
        {
          "output_type": "stream",
          "text": [
            "Cloning into 'Introduction-to-Machine-Learning'...\n",
            "remote: Enumerating objects: 529, done.\u001b[K\n",
            "remote: Total 529 (delta 0), reused 0 (delta 0), pack-reused 529\u001b[K\n",
            "Receiving objects: 100% (529/529), 23.25 MiB | 20.21 MiB/s, done.\n",
            "Resolving deltas: 100% (169/169), done.\n"
          ],
          "name": "stdout"
        }
      ]
    },
    {
      "cell_type": "code",
      "metadata": {
        "id": "khbKKmlLfryC",
        "colab_type": "code",
        "outputId": "cacf4008-1afe-459c-c438-c25a7c8180df",
        "colab": {
          "base_uri": "https://localhost:8080/",
          "height": 34
        }
      },
      "source": [
        "cd  /content/Introduction-to-Machine-Learning/Building a Movie Recommendation Engine"
      ],
      "execution_count": 0,
      "outputs": [
        {
          "output_type": "stream",
          "text": [
            "/content/Introduction-to-Machine-Learning/Building a Movie Recommendation Engine\n"
          ],
          "name": "stdout"
        }
      ]
    },
    {
      "cell_type": "code",
      "metadata": {
        "id": "_KJFi0xwf9ih",
        "colab_type": "code",
        "colab": {}
      },
      "source": [
        "#Import the dependencies\n",
        "import pandas as pd\n",
        "import numpy as np"
      ],
      "execution_count": 0,
      "outputs": []
    },
    {
      "cell_type": "code",
      "metadata": {
        "id": "NydR3DdQgmCK",
        "colab_type": "code",
        "outputId": "1ec7ec02-1ab7-4b23-d1b9-7cbdfe613484",
        "colab": {
          "base_uri": "https://localhost:8080/",
          "height": 255
        }
      },
      "source": [
        "#Read CSV File\n",
        "df = pd.read_csv(\"movie_dataset.csv\")\n",
        "print(df.head())\n",
        "print(df.columns)"
      ],
      "execution_count": 0,
      "outputs": [
        {
          "output_type": "stream",
          "text": [
            "   index  ...           director\n",
            "0      0  ...      James Cameron\n",
            "1      1  ...     Gore Verbinski\n",
            "2      2  ...         Sam Mendes\n",
            "3      3  ...  Christopher Nolan\n",
            "4      4  ...     Andrew Stanton\n",
            "\n",
            "[5 rows x 24 columns]\n",
            "Index(['index', 'budget', 'genres', 'homepage', 'id', 'keywords',\n",
            "       'original_language', 'original_title', 'overview', 'popularity',\n",
            "       'production_companies', 'production_countries', 'release_date',\n",
            "       'revenue', 'runtime', 'spoken_languages', 'status', 'tagline', 'title',\n",
            "       'vote_average', 'vote_count', 'cast', 'crew', 'director'],\n",
            "      dtype='object')\n"
          ],
          "name": "stdout"
        }
      ]
    },
    {
      "cell_type": "code",
      "metadata": {
        "id": "vRY7zOhPgnrO",
        "colab_type": "code",
        "colab": {}
      },
      "source": [
        "#Select features\n",
        "features = ['keywords', 'cast', 'genres', 'director']"
      ],
      "execution_count": 0,
      "outputs": []
    },
    {
      "cell_type": "code",
      "metadata": {
        "id": "Y6VXMqCqhYJ1",
        "colab_type": "code",
        "outputId": "4a62088c-9836-4333-e6c7-901214f36905",
        "colab": {
          "base_uri": "https://localhost:8080/",
          "height": 136
        }
      },
      "source": [
        "#Create a column in DF which combines the selected features\n",
        "for feature in features:\n",
        "  df[feature] = df[feature].fillna('')\n",
        "\n",
        "def combine_features(row):\n",
        "  return f\"{row['keywords']} {row['cast']} {row['genres']} {row['director']}\"\n",
        "\n",
        "df[\"combined_features\"] = df.apply(combine_features, axis = 1)\n",
        "print(\"Combined features: \\n\",df[\"combined_features\"].head())"
      ],
      "execution_count": 0,
      "outputs": [
        {
          "output_type": "stream",
          "text": [
            "Combined features: \n",
            " 0    culture clash future space war space colony so...\n",
            "1    ocean drug abuse exotic island east india trad...\n",
            "2    spy based on novel secret agent sequel mi6 Dan...\n",
            "3    dc comics crime fighter terrorist secret ident...\n",
            "4    based on novel mars medallion space travel pri...\n",
            "Name: combined_features, dtype: object\n"
          ],
          "name": "stdout"
        }
      ]
    },
    {
      "cell_type": "code",
      "metadata": {
        "id": "9-ePZ3CwhzQ6",
        "colab_type": "code",
        "outputId": "6b63c2e4-5486-42cd-ab0b-b51785676772",
        "colab": {
          "base_uri": "https://localhost:8080/",
          "height": 54
        }
      },
      "source": [
        "df[\"combined_features\"][0]"
      ],
      "execution_count": 0,
      "outputs": [
        {
          "output_type": "execute_result",
          "data": {
            "text/plain": [
              "'culture clash future space war space colony society Sam Worthington Zoe Saldana Sigourney Weaver Stephen Lang Michelle Rodriguez Action Adventure Fantasy Science Fiction James Cameron'"
            ]
          },
          "metadata": {
            "tags": []
          },
          "execution_count": 7
        }
      ]
    },
    {
      "cell_type": "code",
      "metadata": {
        "id": "cBGvNby9kgTx",
        "colab_type": "code",
        "colab": {}
      },
      "source": [
        "# Create a count matrix from this new combined column\n",
        "cv = CountVectorizer()\n",
        "count_matrix = cv.fit_transform(df[\"combined_features\"])"
      ],
      "execution_count": 0,
      "outputs": []
    },
    {
      "cell_type": "code",
      "metadata": {
        "id": "8LHJ-WZFmyf1",
        "colab_type": "code",
        "colab": {}
      },
      "source": [
        "# Compute the cosine similarity based on the count_matrix\n",
        "cosine_sim = cosine_similarity(count_matrix)\n",
        "movie_user_likes = \"Iron Man\""
      ],
      "execution_count": 0,
      "outputs": []
    },
    {
      "cell_type": "code",
      "metadata": {
        "id": "nsoXaF7AnSrk",
        "colab_type": "code",
        "colab": {}
      },
      "source": [
        "# Get the index of the movie from the dataframe (in descending order)\n",
        "def get_index_from_title(title):\n",
        "  return df[df.title == title]['index'].values[0]\n",
        "movie_index = get_index_from_title(movie_user_likes)\n",
        "similar_movies = list(enumerate(cosine_sim[movie_index]))"
      ],
      "execution_count": 0,
      "outputs": []
    },
    {
      "cell_type": "code",
      "metadata": {
        "id": "67eUrdvVo4mh",
        "colab_type": "code",
        "colab": {}
      },
      "source": [
        "#Get the list of similar movies in descending order of similarity scores\n",
        "sorted_sim_movies = sorted(similar_movies, key = lambda x:x[1], reverse = True)"
      ],
      "execution_count": 0,
      "outputs": []
    },
    {
      "cell_type": "code",
      "metadata": {
        "id": "Ay-ycdxHo5vP",
        "colab_type": "code",
        "outputId": "3f45dfeb-f18c-4288-fb97-f3cffcc3d0e0",
        "colab": {
          "base_uri": "https://localhost:8080/",
          "height": 884
        }
      },
      "source": [
        "# Print titles of first 50 movies\n",
        "def get_title_from_index(index):\n",
        "  return df[df.index == index]['title'].values[0]\n",
        "\n",
        "i = 0\n",
        "for movie in sorted_sim_movies:\n",
        "  print( get_title_from_index(movie[0]))\n",
        "  i = i+1\n",
        "  if i>50:\n",
        "    break"
      ],
      "execution_count": 0,
      "outputs": [
        {
          "output_type": "stream",
          "text": [
            "Iron Man\n",
            "Iron Man 2\n",
            "Iron Man 3\n",
            "Avengers: Age of Ultron\n",
            "The Avengers\n",
            "Captain America: Civil War\n",
            "Captain America: The Winter Soldier\n",
            "Ant-Man\n",
            "X-Men\n",
            "X2\n",
            "The Helix... Loaded\n",
            "X-Men: First Class\n",
            "The Incredible Hulk\n",
            "X-Men: The Last Stand\n",
            "X-Men: Days of Future Past\n",
            "Fantastic Four\n",
            "X-Men Origins: Wolverine\n",
            "Guardians of the Galaxy\n",
            "The Wolverine\n",
            "TRON: Legacy\n",
            "X-Men: Apocalypse\n",
            "Captain America: The First Avenger\n",
            "Sky Captain and the World of Tomorrow\n",
            "Zathura: A Space Adventure\n",
            "Made\n",
            "Man of Steel\n",
            "Thor: The Dark World\n",
            "Deadpool\n",
            "Superman II\n",
            "Independence Day: Resurgence\n",
            "Kick-Ass 2\n",
            "Southland Tales\n",
            "G.I. Joe: Retaliation\n",
            "Independence Day\n",
            "Sherlock Holmes: A Game of Shadows\n",
            "Red Sonja\n",
            "Stargate: The Ark of Truth\n",
            "The Lost World: Jurassic Park\n",
            "Jurassic World\n",
            "Sherlock Holmes\n",
            "Blade: Trinity\n",
            "Dragonball Evolution\n",
            "A Scanner Darkly\n",
            "Superman Returns\n",
            "Spy Kids 3-D: Game Over\n",
            "The Black Hole\n",
            "The Amazing Spider-Man 2\n",
            "Green Lantern\n",
            "The Core\n",
            "The Shadow\n",
            "RoboCop 3\n"
          ],
          "name": "stdout"
        }
      ]
    },
    {
      "cell_type": "code",
      "metadata": {
        "id": "a-dihuvcqk5G",
        "colab_type": "code",
        "colab": {}
      },
      "source": [
        ""
      ],
      "execution_count": 0,
      "outputs": []
    }
  ]
}