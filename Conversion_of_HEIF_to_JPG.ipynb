{
  "nbformat": 4,
  "nbformat_minor": 0,
  "metadata": {
    "colab": {
      "name": "Conversion of HEIF to JPG.ipynb",
      "provenance": [],
      "mount_file_id": "166yGqt66piVV7qBg3923dA7WnsuiO3in",
      "authorship_tag": "ABX9TyNRalaJuFO2L0hk136c+GEz",
      "include_colab_link": true
    },
    "kernelspec": {
      "name": "python3",
      "display_name": "Python 3"
    },
    "language_info": {
      "name": "python"
    }
  },
  "cells": [
    {
      "cell_type": "markdown",
      "metadata": {
        "id": "view-in-github",
        "colab_type": "text"
      },
      "source": [
        "<a href=\"https://colab.research.google.com/github/9characters/Artificial-Intelligence/blob/master/Conversion_of_HEIF_to_JPG.ipynb\" target=\"_parent\"><img src=\"https://colab.research.google.com/assets/colab-badge.svg\" alt=\"Open In Colab\"/></a>"
      ]
    },
    {
      "cell_type": "code",
      "execution_count": 2,
      "metadata": {
        "colab": {
          "base_uri": "https://localhost:8080/"
        },
        "id": "8IL0vdhAR_-H",
        "outputId": "f1aafaf0-fb69-4f4c-9daa-e21aeb242603"
      },
      "outputs": [
        {
          "output_type": "stream",
          "name": "stdout",
          "text": [
            "Collecting pyheif\n",
            "  Downloading pyheif-0.7.0-cp37-cp37m-manylinux_2_17_x86_64.manylinux2014_x86_64.whl (9.8 MB)\n",
            "\u001b[K     |████████████████████████████████| 9.8 MB 4.2 MB/s \n",
            "\u001b[?25hRequirement already satisfied: cffi>=1.0.0 in /usr/local/lib/python3.7/dist-packages (from pyheif) (1.15.0)\n",
            "Requirement already satisfied: pycparser in /usr/local/lib/python3.7/dist-packages (from cffi>=1.0.0->pyheif) (2.21)\n",
            "Installing collected packages: pyheif\n",
            "Successfully installed pyheif-0.7.0\n"
          ]
        }
      ],
      "source": [
        "!pip install pyheif"
      ]
    },
    {
      "cell_type": "code",
      "source": [
        "import os\n",
        "images = os.listdir(\"/content/drive/MyDrive/Hola\")"
      ],
      "metadata": {
        "id": "hvLyddWzqolo"
      },
      "execution_count": 13,
      "outputs": []
    },
    {
      "cell_type": "code",
      "source": [
        "images"
      ],
      "metadata": {
        "id": "WRrs1pC4qszA"
      },
      "execution_count": null,
      "outputs": []
    },
    {
      "cell_type": "code",
      "source": [
        "import pyheif\n",
        "from PIL import Image\n",
        "\n",
        "BASE_PATH = \"/content/drive/MyDrive/Hola/\"\n",
        "for image in images:\n",
        "    image_path = f\"{BASE_PATH}{image}\"\n",
        "    heif_file = pyheif.read(image_path)\n",
        "    img = Image.frombytes(heif_file.mode, heif_file.size, heif_file.data, \"raw\", heif_file.mode, heif_file.stride)\n",
        "    print(image)\n",
        "    img.save(f\"/content/drive/MyDrive/Converted/{image.split('.HEIC')[0]}.jpg\")\n",
        "    # break"
      ],
      "metadata": {
        "colab": {
          "base_uri": "https://localhost:8080/",
          "height": 1000
        },
        "id": "yB6fbjk7qe2K",
        "outputId": "ecbbca3b-975e-44bf-fec1-1f94f15ba708"
      },
      "execution_count": 15,
      "outputs": [
        {
          "output_type": "stream",
          "name": "stdout",
          "text": [
            "IMG_0985 (1).HEIC\n",
            "IMG_0982 (1).HEIC\n",
            "IMG_0983 (1).HEIC\n",
            "IMG_0984 (1).HEIC\n",
            "IMG_0981 (1).HEIC\n",
            "IMG_0980 (1).HEIC\n",
            "IMG_0989 (1).HEIC\n",
            "IMG_0986 (1).HEIC\n",
            "IMG_0987 (1).HEIC\n",
            "IMG_0988 (1).HEIC\n",
            "IMG_0990 (1).HEIC\n",
            "IMG_0991 (1).HEIC\n",
            "IMG_0992.HEIC\n",
            "IMG_0994.HEIC\n",
            "IMG_0993.HEIC\n",
            "IMG_0995.HEIC\n",
            "IMG_0996.HEIC\n",
            "IMG_0997.HEIC\n",
            "IMG_0998.HEIC\n",
            "IMG_0999.HEIC\n",
            "IMG_1001.HEIC\n",
            "IMG_1022.HEIC\n",
            "IMG_1025.HEIC\n",
            "IMG_1023.HEIC\n",
            "IMG_1024.HEIC\n",
            "IMG_1021.HEIC\n",
            "IMG_1026.HEIC\n",
            "IMG_1030.HEIC\n",
            "IMG_1029.HEIC\n",
            "IMG_1027.HEIC\n",
            "IMG_1028.HEIC\n",
            "IMG_1033.HEIC\n",
            "IMG_1032.HEIC\n",
            "IMG_1031.HEIC\n",
            "IMG_1034.HEIC\n",
            "IMG_1035.HEIC\n",
            "IMG_1037.HEIC\n",
            "IMG_1036.HEIC\n",
            "IMG_1044.HEIC\n",
            "IMG_1041.HEIC\n",
            "IMG_1040.HEIC\n",
            "IMG_1039.HEIC\n",
            "IMG_0985.HEIC\n",
            "IMG_0983.HEIC\n",
            "IMG_0984.HEIC\n",
            "IMG_0982.HEIC\n",
            "IMG_0981.HEIC\n",
            "IMG_0980.HEIC\n",
            "IMG_0989.HEIC\n",
            "IMG_0987.HEIC\n",
            "IMG_0986.HEIC\n",
            "IMG_0988.HEIC\n",
            "IMG_0990.HEIC\n",
            "IMG_0991.HEIC\n"
          ]
        },
        {
          "output_type": "error",
          "ename": "FileNotFoundError",
          "evalue": "ignored",
          "traceback": [
            "\u001b[0;31m---------------------------------------------------------------------------\u001b[0m",
            "\u001b[0;31mFileNotFoundError\u001b[0m                         Traceback (most recent call last)",
            "\u001b[0;32m<ipython-input-15-ec9f9cbd3dd1>\u001b[0m in \u001b[0;36m<module>\u001b[0;34m()\u001b[0m\n\u001b[1;32m      5\u001b[0m \u001b[0;32mfor\u001b[0m \u001b[0mimage\u001b[0m \u001b[0;32min\u001b[0m \u001b[0mimages\u001b[0m\u001b[0;34m:\u001b[0m\u001b[0;34m\u001b[0m\u001b[0;34m\u001b[0m\u001b[0m\n\u001b[1;32m      6\u001b[0m     \u001b[0mimage_path\u001b[0m \u001b[0;34m=\u001b[0m \u001b[0;34mf\"{BASE_PATH}{image}\"\u001b[0m\u001b[0;34m\u001b[0m\u001b[0;34m\u001b[0m\u001b[0m\n\u001b[0;32m----> 7\u001b[0;31m     \u001b[0mheif_file\u001b[0m \u001b[0;34m=\u001b[0m \u001b[0mpyheif\u001b[0m\u001b[0;34m.\u001b[0m\u001b[0mread\u001b[0m\u001b[0;34m(\u001b[0m\u001b[0mimage_path\u001b[0m\u001b[0;34m)\u001b[0m\u001b[0;34m\u001b[0m\u001b[0;34m\u001b[0m\u001b[0m\n\u001b[0m\u001b[1;32m      8\u001b[0m     \u001b[0mimg\u001b[0m \u001b[0;34m=\u001b[0m \u001b[0mImage\u001b[0m\u001b[0;34m.\u001b[0m\u001b[0mfrombytes\u001b[0m\u001b[0;34m(\u001b[0m\u001b[0mheif_file\u001b[0m\u001b[0;34m.\u001b[0m\u001b[0mmode\u001b[0m\u001b[0;34m,\u001b[0m \u001b[0mheif_file\u001b[0m\u001b[0;34m.\u001b[0m\u001b[0msize\u001b[0m\u001b[0;34m,\u001b[0m \u001b[0mheif_file\u001b[0m\u001b[0;34m.\u001b[0m\u001b[0mdata\u001b[0m\u001b[0;34m,\u001b[0m \u001b[0;34m\"raw\"\u001b[0m\u001b[0;34m,\u001b[0m \u001b[0mheif_file\u001b[0m\u001b[0;34m.\u001b[0m\u001b[0mmode\u001b[0m\u001b[0;34m,\u001b[0m \u001b[0mheif_file\u001b[0m\u001b[0;34m.\u001b[0m\u001b[0mstride\u001b[0m\u001b[0;34m)\u001b[0m\u001b[0;34m\u001b[0m\u001b[0;34m\u001b[0m\u001b[0m\n\u001b[1;32m      9\u001b[0m     \u001b[0mprint\u001b[0m\u001b[0;34m(\u001b[0m\u001b[0mimage\u001b[0m\u001b[0;34m)\u001b[0m\u001b[0;34m\u001b[0m\u001b[0;34m\u001b[0m\u001b[0m\n",
            "\u001b[0;32m/usr/local/lib/python3.7/dist-packages/pyheif/reader.py\u001b[0m in \u001b[0;36mread\u001b[0;34m(fp, apply_transformations, convert_hdr_to_8bit)\u001b[0m\n\u001b[1;32m     99\u001b[0m         \u001b[0mfp\u001b[0m\u001b[0;34m,\u001b[0m\u001b[0;34m\u001b[0m\u001b[0;34m\u001b[0m\u001b[0m\n\u001b[1;32m    100\u001b[0m         \u001b[0mapply_transformations\u001b[0m\u001b[0;34m=\u001b[0m\u001b[0mapply_transformations\u001b[0m\u001b[0;34m,\u001b[0m\u001b[0;34m\u001b[0m\u001b[0;34m\u001b[0m\u001b[0m\n\u001b[0;32m--> 101\u001b[0;31m         \u001b[0mconvert_hdr_to_8bit\u001b[0m\u001b[0;34m=\u001b[0m\u001b[0mconvert_hdr_to_8bit\u001b[0m\u001b[0;34m,\u001b[0m\u001b[0;34m\u001b[0m\u001b[0;34m\u001b[0m\u001b[0m\n\u001b[0m\u001b[1;32m    102\u001b[0m     )\n\u001b[1;32m    103\u001b[0m     \u001b[0;32mreturn\u001b[0m \u001b[0mheif_file\u001b[0m\u001b[0;34m.\u001b[0m\u001b[0mload\u001b[0m\u001b[0;34m(\u001b[0m\u001b[0;34m)\u001b[0m\u001b[0;34m\u001b[0m\u001b[0;34m\u001b[0m\u001b[0m\n",
            "\u001b[0;32m/usr/local/lib/python3.7/dist-packages/pyheif/reader.py\u001b[0m in \u001b[0;36mopen\u001b[0;34m(fp, apply_transformations, convert_hdr_to_8bit)\u001b[0m\n\u001b[1;32m    108\u001b[0m         \u001b[0mfp\u001b[0m\u001b[0;34m,\u001b[0m\u001b[0;34m\u001b[0m\u001b[0;34m\u001b[0m\u001b[0m\n\u001b[1;32m    109\u001b[0m         \u001b[0mapply_transformations\u001b[0m\u001b[0;34m=\u001b[0m\u001b[0mapply_transformations\u001b[0m\u001b[0;34m,\u001b[0m\u001b[0;34m\u001b[0m\u001b[0;34m\u001b[0m\u001b[0m\n\u001b[0;32m--> 110\u001b[0;31m         \u001b[0mconvert_hdr_to_8bit\u001b[0m\u001b[0;34m=\u001b[0m\u001b[0mconvert_hdr_to_8bit\u001b[0m\u001b[0;34m,\u001b[0m\u001b[0;34m\u001b[0m\u001b[0;34m\u001b[0m\u001b[0m\n\u001b[0m\u001b[1;32m    111\u001b[0m     )\n\u001b[1;32m    112\u001b[0m     \u001b[0;32mreturn\u001b[0m \u001b[0mheif_container\u001b[0m\u001b[0;34m.\u001b[0m\u001b[0mprimary_image\u001b[0m\u001b[0;34m.\u001b[0m\u001b[0mimage\u001b[0m\u001b[0;34m\u001b[0m\u001b[0;34m\u001b[0m\u001b[0m\n",
            "\u001b[0;32m/usr/local/lib/python3.7/dist-packages/pyheif/reader.py\u001b[0m in \u001b[0;36mopen_container\u001b[0;34m(fp, apply_transformations, convert_hdr_to_8bit)\u001b[0m\n\u001b[1;32m    114\u001b[0m \u001b[0;34m\u001b[0m\u001b[0m\n\u001b[1;32m    115\u001b[0m \u001b[0;32mdef\u001b[0m \u001b[0mopen_container\u001b[0m\u001b[0;34m(\u001b[0m\u001b[0mfp\u001b[0m\u001b[0;34m,\u001b[0m \u001b[0;34m*\u001b[0m\u001b[0;34m,\u001b[0m \u001b[0mapply_transformations\u001b[0m\u001b[0;34m=\u001b[0m\u001b[0;32mTrue\u001b[0m\u001b[0;34m,\u001b[0m \u001b[0mconvert_hdr_to_8bit\u001b[0m\u001b[0;34m=\u001b[0m\u001b[0;32mTrue\u001b[0m\u001b[0;34m)\u001b[0m\u001b[0;34m:\u001b[0m\u001b[0;34m\u001b[0m\u001b[0;34m\u001b[0m\u001b[0m\n\u001b[0;32m--> 116\u001b[0;31m     \u001b[0md\u001b[0m \u001b[0;34m=\u001b[0m \u001b[0m_get_bytes\u001b[0m\u001b[0;34m(\u001b[0m\u001b[0mfp\u001b[0m\u001b[0;34m)\u001b[0m\u001b[0;34m\u001b[0m\u001b[0;34m\u001b[0m\u001b[0m\n\u001b[0m\u001b[1;32m    117\u001b[0m     \u001b[0mctx\u001b[0m \u001b[0;34m=\u001b[0m \u001b[0m_get_heif_context\u001b[0m\u001b[0;34m(\u001b[0m\u001b[0md\u001b[0m\u001b[0;34m)\u001b[0m\u001b[0;34m\u001b[0m\u001b[0;34m\u001b[0m\u001b[0m\n\u001b[1;32m    118\u001b[0m     \u001b[0;32mreturn\u001b[0m \u001b[0m_read_heif_container\u001b[0m\u001b[0;34m(\u001b[0m\u001b[0mctx\u001b[0m\u001b[0;34m,\u001b[0m \u001b[0mapply_transformations\u001b[0m\u001b[0;34m,\u001b[0m \u001b[0mconvert_hdr_to_8bit\u001b[0m\u001b[0;34m)\u001b[0m\u001b[0;34m\u001b[0m\u001b[0;34m\u001b[0m\u001b[0m\n",
            "\u001b[0;32m/usr/local/lib/python3.7/dist-packages/pyheif/reader.py\u001b[0m in \u001b[0;36m_get_bytes\u001b[0;34m(fp, length)\u001b[0m\n\u001b[1;32m    121\u001b[0m \u001b[0;32mdef\u001b[0m \u001b[0m_get_bytes\u001b[0m\u001b[0;34m(\u001b[0m\u001b[0mfp\u001b[0m\u001b[0;34m,\u001b[0m \u001b[0mlength\u001b[0m\u001b[0;34m=\u001b[0m\u001b[0;32mNone\u001b[0m\u001b[0;34m)\u001b[0m\u001b[0;34m:\u001b[0m\u001b[0;34m\u001b[0m\u001b[0;34m\u001b[0m\u001b[0m\n\u001b[1;32m    122\u001b[0m     \u001b[0;32mif\u001b[0m \u001b[0misinstance\u001b[0m\u001b[0;34m(\u001b[0m\u001b[0mfp\u001b[0m\u001b[0;34m,\u001b[0m \u001b[0;34m(\u001b[0m\u001b[0mstr\u001b[0m\u001b[0;34m,\u001b[0m \u001b[0mpathlib\u001b[0m\u001b[0;34m.\u001b[0m\u001b[0mPath\u001b[0m\u001b[0;34m)\u001b[0m\u001b[0;34m)\u001b[0m\u001b[0;34m:\u001b[0m\u001b[0;34m\u001b[0m\u001b[0;34m\u001b[0m\u001b[0m\n\u001b[0;32m--> 123\u001b[0;31m         \u001b[0;32mwith\u001b[0m \u001b[0mbuiltins\u001b[0m\u001b[0;34m.\u001b[0m\u001b[0mopen\u001b[0m\u001b[0;34m(\u001b[0m\u001b[0mfp\u001b[0m\u001b[0;34m,\u001b[0m \u001b[0;34m\"rb\"\u001b[0m\u001b[0;34m)\u001b[0m \u001b[0;32mas\u001b[0m \u001b[0mf\u001b[0m\u001b[0;34m:\u001b[0m\u001b[0;34m\u001b[0m\u001b[0;34m\u001b[0m\u001b[0m\n\u001b[0m\u001b[1;32m    124\u001b[0m             \u001b[0md\u001b[0m \u001b[0;34m=\u001b[0m \u001b[0mf\u001b[0m\u001b[0;34m.\u001b[0m\u001b[0mread\u001b[0m\u001b[0;34m(\u001b[0m\u001b[0mlength\u001b[0m \u001b[0;32mor\u001b[0m \u001b[0;34m-\u001b[0m\u001b[0;36m1\u001b[0m\u001b[0;34m)\u001b[0m\u001b[0;34m\u001b[0m\u001b[0;34m\u001b[0m\u001b[0m\n\u001b[1;32m    125\u001b[0m     \u001b[0;32melif\u001b[0m \u001b[0mhasattr\u001b[0m\u001b[0;34m(\u001b[0m\u001b[0mfp\u001b[0m\u001b[0;34m,\u001b[0m \u001b[0;34m\"read\"\u001b[0m\u001b[0;34m)\u001b[0m\u001b[0;34m:\u001b[0m\u001b[0;34m\u001b[0m\u001b[0;34m\u001b[0m\u001b[0m\n",
            "\u001b[0;31mFileNotFoundError\u001b[0m: [Errno 2] No such file or directory: '/content/drive/MyDrive/Hola/.ipynb_checkpoints'"
          ]
        }
      ]
    },
    {
      "cell_type": "code",
      "source": [
        ""
      ],
      "metadata": {
        "id": "iof7WkiRrPiQ"
      },
      "execution_count": null,
      "outputs": []
    }
  ]
}