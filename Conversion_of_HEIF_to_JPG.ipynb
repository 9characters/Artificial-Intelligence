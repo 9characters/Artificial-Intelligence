{
  "nbformat": 4,
  "nbformat_minor": 0,
  "metadata": {
    "colab": {
      "name": "Conversion of HEIF to JPG.ipynb",
      "provenance": [],
      "mount_file_id": "166yGqt66piVV7qBg3923dA7WnsuiO3in",
      "authorship_tag": "ABX9TyPfk+a0u8dFAxuE09mRYD7K",
      "include_colab_link": true
    },
    "kernelspec": {
      "name": "python3",
      "display_name": "Python 3"
    },
    "language_info": {
      "name": "python"
    }
  },
  "cells": [
    {
      "cell_type": "markdown",
      "metadata": {
        "id": "view-in-github",
        "colab_type": "text"
      },
      "source": [
        "<a href=\"https://colab.research.google.com/github/9characters/Artificial-Intelligence/blob/master/Conversion_of_HEIF_to_JPG.ipynb\" target=\"_parent\"><img src=\"https://colab.research.google.com/assets/colab-badge.svg\" alt=\"Open In Colab\"/></a>"
      ]
    },
    {
      "cell_type": "code",
      "execution_count": 2,
      "metadata": {
        "colab": {
          "base_uri": "https://localhost:8080/"
        },
        "id": "8IL0vdhAR_-H",
        "outputId": "f1aafaf0-fb69-4f4c-9daa-e21aeb242603"
      },
      "outputs": [
        {
          "output_type": "stream",
          "name": "stdout",
          "text": [
            "Collecting pyheif\n",
            "  Downloading pyheif-0.7.0-cp37-cp37m-manylinux_2_17_x86_64.manylinux2014_x86_64.whl (9.8 MB)\n",
            "\u001b[K     |████████████████████████████████| 9.8 MB 4.2 MB/s \n",
            "\u001b[?25hRequirement already satisfied: cffi>=1.0.0 in /usr/local/lib/python3.7/dist-packages (from pyheif) (1.15.0)\n",
            "Requirement already satisfied: pycparser in /usr/local/lib/python3.7/dist-packages (from cffi>=1.0.0->pyheif) (2.21)\n",
            "Installing collected packages: pyheif\n",
            "Successfully installed pyheif-0.7.0\n"
          ]
        }
      ],
      "source": [
        "!pip install pyheif"
      ]
    },
    {
      "cell_type": "code",
      "source": [
        "!rm -rf /content/drive/MyDrive/Hola/Converted"
      ],
      "metadata": {
        "id": "u9xOazbzwpul"
      },
      "execution_count": 22,
      "outputs": []
    },
    {
      "cell_type": "code",
      "source": [
        "import pyheif\n",
        "from PIL import Image\n",
        "import glob\n",
        "import os\n",
        "\n",
        "def convert_heic_to_jpg(BASE_PATH, OUTPUT_PATH):\n",
        "    os.chdir(BASE_PATH)\n",
        "    images = glob.glob(\"*.HEIC\")\n",
        "    os.chdir(\"/content\")\n",
        "    \n",
        "    if not os.path.exists(OUTPUT_PATH):\n",
        "        os.mkdir(OUTPUT_PATH)\n",
        "    \n",
        "    for image in images:\n",
        "        image_path = f\"{BASE_PATH}{image}\"\n",
        "        heif_file = pyheif.read(image_path)\n",
        "        img = Image.frombytes(heif_file.mode, heif_file.size, heif_file.data, \"raw\", heif_file.mode, heif_file.stride)\n",
        "        print(f\"{image}...Done\")\n",
        "        img.save(f\"{OUTPUT_PATH}{image.split('.HEIC')[0]}.jpg\")\n",
        "\n",
        "if __name__ == \"__main__\":\n",
        "\n",
        "    BASE_PATH = \"/content/drive/MyDrive/Hola/\"\n",
        "    OUTPUT_PATH = \"/content/drive/MyDrive/Hola/Converted/\"\n",
        "\n",
        "    convert_heic_to_jpg(BASE_PATH, OUTPUT_PATH)"
      ],
      "metadata": {
        "colab": {
          "base_uri": "https://localhost:8080/"
        },
        "id": "yB6fbjk7qe2K",
        "outputId": "b82fb9a3-6f0b-4913-baa2-3edbb4047da1"
      },
      "execution_count": 25,
      "outputs": [
        {
          "output_type": "stream",
          "name": "stdout",
          "text": [
            "IMG_0985 (1).HEIC...Done\n",
            "IMG_0982 (1).HEIC...Done\n",
            "IMG_0983 (1).HEIC...Done\n",
            "IMG_0984 (1).HEIC...Done\n",
            "IMG_0981 (1).HEIC...Done\n",
            "IMG_0980 (1).HEIC...Done\n",
            "IMG_0989 (1).HEIC...Done\n",
            "IMG_0986 (1).HEIC...Done\n",
            "IMG_0987 (1).HEIC...Done\n",
            "IMG_0988 (1).HEIC...Done\n",
            "IMG_0990 (1).HEIC...Done\n",
            "IMG_0991 (1).HEIC...Done\n",
            "IMG_0992.HEIC...Done\n",
            "IMG_0994.HEIC...Done\n",
            "IMG_0993.HEIC...Done\n",
            "IMG_0995.HEIC...Done\n",
            "IMG_0996.HEIC...Done\n",
            "IMG_0997.HEIC...Done\n",
            "IMG_0998.HEIC...Done\n",
            "IMG_0999.HEIC...Done\n",
            "IMG_1001.HEIC...Done\n",
            "IMG_1022.HEIC...Done\n",
            "IMG_1025.HEIC...Done\n",
            "IMG_1023.HEIC...Done\n",
            "IMG_1024.HEIC...Done\n",
            "IMG_1021.HEIC...Done\n",
            "IMG_1026.HEIC...Done\n",
            "IMG_1030.HEIC...Done\n",
            "IMG_1029.HEIC...Done\n",
            "IMG_1027.HEIC...Done\n",
            "IMG_1028.HEIC...Done\n",
            "IMG_1033.HEIC...Done\n",
            "IMG_1032.HEIC...Done\n",
            "IMG_1031.HEIC...Done\n",
            "IMG_1034.HEIC...Done\n",
            "IMG_1035.HEIC...Done\n",
            "IMG_1037.HEIC...Done\n",
            "IMG_1036.HEIC...Done\n",
            "IMG_1044.HEIC...Done\n",
            "IMG_1041.HEIC...Done\n",
            "IMG_1040.HEIC...Done\n",
            "IMG_1039.HEIC...Done\n",
            "IMG_0985.HEIC...Done\n",
            "IMG_0983.HEIC...Done\n",
            "IMG_0984.HEIC...Done\n",
            "IMG_0982.HEIC...Done\n",
            "IMG_0981.HEIC...Done\n",
            "IMG_0980.HEIC...Done\n",
            "IMG_0989.HEIC...Done\n",
            "IMG_0987.HEIC...Done\n",
            "IMG_0986.HEIC...Done\n",
            "IMG_0988.HEIC...Done\n",
            "IMG_0990.HEIC...Done\n",
            "IMG_0991.HEIC...Done\n"
          ]
        }
      ]
    },
    {
      "cell_type": "code",
      "source": [
        ""
      ],
      "metadata": {
        "id": "iof7WkiRrPiQ"
      },
      "execution_count": null,
      "outputs": []
    }
  ]
}