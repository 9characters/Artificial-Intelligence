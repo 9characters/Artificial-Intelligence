{
  "cells": [
    {
      "cell_type": "markdown",
      "metadata": {
        "id": "view-in-github",
        "colab_type": "text"
      },
      "source": [
        "<a href=\"https://colab.research.google.com/github/9characters/Artificial-Intelligence/blob/master/Heart_Rate_Preds_using_Federated_Learning.ipynb\" target=\"_parent\"><img src=\"https://colab.research.google.com/assets/colab-badge.svg\" alt=\"Open In Colab\"/></a>"
      ]
    },
    {
      "cell_type": "markdown",
      "source": [
        "**Federated learning with LSTM for prediction of heart rate **"
      ],
      "metadata": {
        "id": "eEXchb0KIb0w"
      }
    },
    {
      "cell_type": "markdown",
      "source": [
        "replace MLP with LSTM\n",
        "make prediction \n",
        "show actual vs prediction curve"
      ],
      "metadata": {
        "id": "8OQCMYyaImaN"
      }
    },
    {
      "cell_type": "markdown",
      "metadata": {
        "id": "1sPGfDLHHN7g"
      },
      "source": [
        "\n",
        "**Import LIbraries**"
      ]
    },
    {
      "cell_type": "code",
      "execution_count": 1,
      "metadata": {
        "id": "jIlLvvstLdwk"
      },
      "outputs": [],
      "source": [
        "import numpy as np\n",
        "import random\n",
        "import cv2\n",
        "import os\n",
        "\n",
        "from imutils import paths\n",
        "from sklearn.model_selection import train_test_split\n",
        "from sklearn.preprocessing import LabelBinarizer\n",
        "from sklearn.utils import shuffle\n",
        "from sklearn.metrics import accuracy_score, precision_recall_curve, precision_score, recall_score, average_precision_score\n",
        "\n",
        "import tensorflow as tf\n",
        "from tensorflow.keras.models import Sequential\n",
        "from tensorflow.keras.layers import Conv2D, MaxPooling2D, Activation, Flatten, Dense, Dropout\n",
        "from tensorflow.keras.optimizers import SGD, Adam\n",
        "from tensorflow.keras import backend as K\n",
        "from tensorflow import keras\n",
        "\n",
        "\n",
        "import matplotlib.pyplot as plt"
      ]
    },
    {
      "cell_type": "markdown",
      "source": [
        "**Obtaining the data**"
      ],
      "metadata": {
        "id": "13DczTXdfp4a"
      }
    },
    {
      "cell_type": "code",
      "source": [
        "from google.colab import drive\n",
        "drive.mount('/content/drive')"
      ],
      "metadata": {
        "colab": {
          "base_uri": "https://localhost:8080/"
        },
        "id": "otEr8t4c-EkM",
        "outputId": "c5d64ad0-967e-412c-e7f7-fec4aef940e5"
      },
      "execution_count": 2,
      "outputs": [
        {
          "output_type": "stream",
          "name": "stdout",
          "text": [
            "Mounted at /content/drive\n"
          ]
        }
      ]
    },
    {
      "cell_type": "markdown",
      "metadata": {
        "id": "qTgH6LEyHhqF"
      },
      "source": [
        "**Upload data here or directly from drive**"
      ]
    },
    {
      "cell_type": "code",
      "execution_count": 3,
      "metadata": {
        "id": "mIld4IvdOlkF"
      },
      "outputs": [],
      "source": [
        "import pandas as pd\n",
        "import numpy as np"
      ]
    },
    {
      "cell_type": "code",
      "source": [
        "#s\n",
        "model_features =  [\"altitude\",\"heart_rate\",\"speed\"]\n",
        "dataset = pd.read_csv('/content/drive/MyDrive/endomondo/final.csv')[model_features]\n",
        "dataset.head()"
      ],
      "metadata": {
        "colab": {
          "base_uri": "https://localhost:8080/",
          "height": 206
        },
        "id": "SrreIigdhtYy",
        "outputId": "aec6a12e-d92c-4deb-ed5f-06fe09d2c17c"
      },
      "execution_count": 4,
      "outputs": [
        {
          "output_type": "execute_result",
          "data": {
            "text/plain": [
              "   altitude  heart_rate    speed\n",
              "0      14.4          84  18.1260\n",
              "1      14.4          93  21.7224\n",
              "2      14.4          94  25.3692\n",
              "3      13.4          95  33.5844\n",
              "4      11.2          94  32.2956"
            ],
            "text/html": [
              "\n",
              "  <div id=\"df-44e39c99-325d-4eaa-8179-e57fc0e6af0f\">\n",
              "    <div class=\"colab-df-container\">\n",
              "      <div>\n",
              "<style scoped>\n",
              "    .dataframe tbody tr th:only-of-type {\n",
              "        vertical-align: middle;\n",
              "    }\n",
              "\n",
              "    .dataframe tbody tr th {\n",
              "        vertical-align: top;\n",
              "    }\n",
              "\n",
              "    .dataframe thead th {\n",
              "        text-align: right;\n",
              "    }\n",
              "</style>\n",
              "<table border=\"1\" class=\"dataframe\">\n",
              "  <thead>\n",
              "    <tr style=\"text-align: right;\">\n",
              "      <th></th>\n",
              "      <th>altitude</th>\n",
              "      <th>heart_rate</th>\n",
              "      <th>speed</th>\n",
              "    </tr>\n",
              "  </thead>\n",
              "  <tbody>\n",
              "    <tr>\n",
              "      <th>0</th>\n",
              "      <td>14.4</td>\n",
              "      <td>84</td>\n",
              "      <td>18.1260</td>\n",
              "    </tr>\n",
              "    <tr>\n",
              "      <th>1</th>\n",
              "      <td>14.4</td>\n",
              "      <td>93</td>\n",
              "      <td>21.7224</td>\n",
              "    </tr>\n",
              "    <tr>\n",
              "      <th>2</th>\n",
              "      <td>14.4</td>\n",
              "      <td>94</td>\n",
              "      <td>25.3692</td>\n",
              "    </tr>\n",
              "    <tr>\n",
              "      <th>3</th>\n",
              "      <td>13.4</td>\n",
              "      <td>95</td>\n",
              "      <td>33.5844</td>\n",
              "    </tr>\n",
              "    <tr>\n",
              "      <th>4</th>\n",
              "      <td>11.2</td>\n",
              "      <td>94</td>\n",
              "      <td>32.2956</td>\n",
              "    </tr>\n",
              "  </tbody>\n",
              "</table>\n",
              "</div>\n",
              "      <button class=\"colab-df-convert\" onclick=\"convertToInteractive('df-44e39c99-325d-4eaa-8179-e57fc0e6af0f')\"\n",
              "              title=\"Convert this dataframe to an interactive table.\"\n",
              "              style=\"display:none;\">\n",
              "        \n",
              "  <svg xmlns=\"http://www.w3.org/2000/svg\" height=\"24px\"viewBox=\"0 0 24 24\"\n",
              "       width=\"24px\">\n",
              "    <path d=\"M0 0h24v24H0V0z\" fill=\"none\"/>\n",
              "    <path d=\"M18.56 5.44l.94 2.06.94-2.06 2.06-.94-2.06-.94-.94-2.06-.94 2.06-2.06.94zm-11 1L8.5 8.5l.94-2.06 2.06-.94-2.06-.94L8.5 2.5l-.94 2.06-2.06.94zm10 10l.94 2.06.94-2.06 2.06-.94-2.06-.94-.94-2.06-.94 2.06-2.06.94z\"/><path d=\"M17.41 7.96l-1.37-1.37c-.4-.4-.92-.59-1.43-.59-.52 0-1.04.2-1.43.59L10.3 9.45l-7.72 7.72c-.78.78-.78 2.05 0 2.83L4 21.41c.39.39.9.59 1.41.59.51 0 1.02-.2 1.41-.59l7.78-7.78 2.81-2.81c.8-.78.8-2.07 0-2.86zM5.41 20L4 18.59l7.72-7.72 1.47 1.35L5.41 20z\"/>\n",
              "  </svg>\n",
              "      </button>\n",
              "      \n",
              "  <style>\n",
              "    .colab-df-container {\n",
              "      display:flex;\n",
              "      flex-wrap:wrap;\n",
              "      gap: 12px;\n",
              "    }\n",
              "\n",
              "    .colab-df-convert {\n",
              "      background-color: #E8F0FE;\n",
              "      border: none;\n",
              "      border-radius: 50%;\n",
              "      cursor: pointer;\n",
              "      display: none;\n",
              "      fill: #1967D2;\n",
              "      height: 32px;\n",
              "      padding: 0 0 0 0;\n",
              "      width: 32px;\n",
              "    }\n",
              "\n",
              "    .colab-df-convert:hover {\n",
              "      background-color: #E2EBFA;\n",
              "      box-shadow: 0px 1px 2px rgba(60, 64, 67, 0.3), 0px 1px 3px 1px rgba(60, 64, 67, 0.15);\n",
              "      fill: #174EA6;\n",
              "    }\n",
              "\n",
              "    [theme=dark] .colab-df-convert {\n",
              "      background-color: #3B4455;\n",
              "      fill: #D2E3FC;\n",
              "    }\n",
              "\n",
              "    [theme=dark] .colab-df-convert:hover {\n",
              "      background-color: #434B5C;\n",
              "      box-shadow: 0px 1px 3px 1px rgba(0, 0, 0, 0.15);\n",
              "      filter: drop-shadow(0px 1px 2px rgba(0, 0, 0, 0.3));\n",
              "      fill: #FFFFFF;\n",
              "    }\n",
              "  </style>\n",
              "\n",
              "      <script>\n",
              "        const buttonEl =\n",
              "          document.querySelector('#df-44e39c99-325d-4eaa-8179-e57fc0e6af0f button.colab-df-convert');\n",
              "        buttonEl.style.display =\n",
              "          google.colab.kernel.accessAllowed ? 'block' : 'none';\n",
              "\n",
              "        async function convertToInteractive(key) {\n",
              "          const element = document.querySelector('#df-44e39c99-325d-4eaa-8179-e57fc0e6af0f');\n",
              "          const dataTable =\n",
              "            await google.colab.kernel.invokeFunction('convertToInteractive',\n",
              "                                                     [key], {});\n",
              "          if (!dataTable) return;\n",
              "\n",
              "          const docLinkHtml = 'Like what you see? Visit the ' +\n",
              "            '<a target=\"_blank\" href=https://colab.research.google.com/notebooks/data_table.ipynb>data table notebook</a>'\n",
              "            + ' to learn more about interactive tables.';\n",
              "          element.innerHTML = '';\n",
              "          dataTable['output_type'] = 'display_data';\n",
              "          await google.colab.output.renderOutput(dataTable, element);\n",
              "          const docLink = document.createElement('div');\n",
              "          docLink.innerHTML = docLinkHtml;\n",
              "          element.appendChild(docLink);\n",
              "        }\n",
              "      </script>\n",
              "    </div>\n",
              "  </div>\n",
              "  "
            ]
          },
          "metadata": {},
          "execution_count": 4
        }
      ]
    },
    {
      "cell_type": "code",
      "source": [
        "X= dataset[[\"altitude\", \"speed\"]].values\n",
        "y= dataset[['heart_rate']].values\n",
        "\n",
        "print(dataset.info)"
      ],
      "metadata": {
        "colab": {
          "base_uri": "https://localhost:8080/"
        },
        "id": "oJp6Q9uF-PCx",
        "outputId": "01940312-5c18-4bec-bbad-943b09f161f3"
      },
      "execution_count": 5,
      "outputs": [
        {
          "output_type": "stream",
          "name": "stdout",
          "text": [
            "<bound method DataFrame.info of       altitude  heart_rate    speed\n",
            "0         14.4          84  18.1260\n",
            "1         14.4          93  21.7224\n",
            "2         14.4          94  25.3692\n",
            "3         13.4          95  33.5844\n",
            "4         11.2          94  32.2956\n",
            "...        ...         ...      ...\n",
            "4984     -28.4         124  18.2808\n",
            "4985     -26.6         125  13.0212\n",
            "4986     -25.2         125  10.7424\n",
            "4987     -25.2         124  17.6868\n",
            "4988     -22.0         127   6.5340\n",
            "\n",
            "[4989 rows x 3 columns]>\n"
          ]
        }
      ]
    },
    {
      "cell_type": "code",
      "source": [
        "y"
      ],
      "metadata": {
        "colab": {
          "base_uri": "https://localhost:8080/"
        },
        "id": "Andj-brL-VFK",
        "outputId": "32f9f0aa-bb71-497b-b511-a224215b4da1"
      },
      "execution_count": 6,
      "outputs": [
        {
          "output_type": "execute_result",
          "data": {
            "text/plain": [
              "array([[ 84],\n",
              "       [ 93],\n",
              "       [ 94],\n",
              "       ...,\n",
              "       [125],\n",
              "       [124],\n",
              "       [127]])"
            ]
          },
          "metadata": {},
          "execution_count": 6
        }
      ]
    },
    {
      "cell_type": "code",
      "source": [
        "dataset.describe()"
      ],
      "metadata": {
        "colab": {
          "base_uri": "https://localhost:8080/",
          "height": 300
        },
        "id": "u1euVY4a7vTs",
        "outputId": "b7974bcb-c9cd-4dd2-8324-e998e4d9a9d8"
      },
      "execution_count": 7,
      "outputs": [
        {
          "output_type": "execute_result",
          "data": {
            "text/plain": [
              "          altitude   heart_rate        speed\n",
              "count  4989.000000  4989.000000  4989.000000\n",
              "mean     51.380637   141.665264    19.701534\n",
              "std      52.031857    22.933383     9.740697\n",
              "min     -37.000000    56.000000     0.000000\n",
              "25%      19.200000   128.000000    11.862000\n",
              "50%      38.000000   139.000000    16.264800\n",
              "75%      71.200000   160.000000    25.614000\n",
              "max     176.200000   182.000000    59.695200"
            ],
            "text/html": [
              "\n",
              "  <div id=\"df-9b1022cd-ce8e-49ff-af34-0713fe30f252\">\n",
              "    <div class=\"colab-df-container\">\n",
              "      <div>\n",
              "<style scoped>\n",
              "    .dataframe tbody tr th:only-of-type {\n",
              "        vertical-align: middle;\n",
              "    }\n",
              "\n",
              "    .dataframe tbody tr th {\n",
              "        vertical-align: top;\n",
              "    }\n",
              "\n",
              "    .dataframe thead th {\n",
              "        text-align: right;\n",
              "    }\n",
              "</style>\n",
              "<table border=\"1\" class=\"dataframe\">\n",
              "  <thead>\n",
              "    <tr style=\"text-align: right;\">\n",
              "      <th></th>\n",
              "      <th>altitude</th>\n",
              "      <th>heart_rate</th>\n",
              "      <th>speed</th>\n",
              "    </tr>\n",
              "  </thead>\n",
              "  <tbody>\n",
              "    <tr>\n",
              "      <th>count</th>\n",
              "      <td>4989.000000</td>\n",
              "      <td>4989.000000</td>\n",
              "      <td>4989.000000</td>\n",
              "    </tr>\n",
              "    <tr>\n",
              "      <th>mean</th>\n",
              "      <td>51.380637</td>\n",
              "      <td>141.665264</td>\n",
              "      <td>19.701534</td>\n",
              "    </tr>\n",
              "    <tr>\n",
              "      <th>std</th>\n",
              "      <td>52.031857</td>\n",
              "      <td>22.933383</td>\n",
              "      <td>9.740697</td>\n",
              "    </tr>\n",
              "    <tr>\n",
              "      <th>min</th>\n",
              "      <td>-37.000000</td>\n",
              "      <td>56.000000</td>\n",
              "      <td>0.000000</td>\n",
              "    </tr>\n",
              "    <tr>\n",
              "      <th>25%</th>\n",
              "      <td>19.200000</td>\n",
              "      <td>128.000000</td>\n",
              "      <td>11.862000</td>\n",
              "    </tr>\n",
              "    <tr>\n",
              "      <th>50%</th>\n",
              "      <td>38.000000</td>\n",
              "      <td>139.000000</td>\n",
              "      <td>16.264800</td>\n",
              "    </tr>\n",
              "    <tr>\n",
              "      <th>75%</th>\n",
              "      <td>71.200000</td>\n",
              "      <td>160.000000</td>\n",
              "      <td>25.614000</td>\n",
              "    </tr>\n",
              "    <tr>\n",
              "      <th>max</th>\n",
              "      <td>176.200000</td>\n",
              "      <td>182.000000</td>\n",
              "      <td>59.695200</td>\n",
              "    </tr>\n",
              "  </tbody>\n",
              "</table>\n",
              "</div>\n",
              "      <button class=\"colab-df-convert\" onclick=\"convertToInteractive('df-9b1022cd-ce8e-49ff-af34-0713fe30f252')\"\n",
              "              title=\"Convert this dataframe to an interactive table.\"\n",
              "              style=\"display:none;\">\n",
              "        \n",
              "  <svg xmlns=\"http://www.w3.org/2000/svg\" height=\"24px\"viewBox=\"0 0 24 24\"\n",
              "       width=\"24px\">\n",
              "    <path d=\"M0 0h24v24H0V0z\" fill=\"none\"/>\n",
              "    <path d=\"M18.56 5.44l.94 2.06.94-2.06 2.06-.94-2.06-.94-.94-2.06-.94 2.06-2.06.94zm-11 1L8.5 8.5l.94-2.06 2.06-.94-2.06-.94L8.5 2.5l-.94 2.06-2.06.94zm10 10l.94 2.06.94-2.06 2.06-.94-2.06-.94-.94-2.06-.94 2.06-2.06.94z\"/><path d=\"M17.41 7.96l-1.37-1.37c-.4-.4-.92-.59-1.43-.59-.52 0-1.04.2-1.43.59L10.3 9.45l-7.72 7.72c-.78.78-.78 2.05 0 2.83L4 21.41c.39.39.9.59 1.41.59.51 0 1.02-.2 1.41-.59l7.78-7.78 2.81-2.81c.8-.78.8-2.07 0-2.86zM5.41 20L4 18.59l7.72-7.72 1.47 1.35L5.41 20z\"/>\n",
              "  </svg>\n",
              "      </button>\n",
              "      \n",
              "  <style>\n",
              "    .colab-df-container {\n",
              "      display:flex;\n",
              "      flex-wrap:wrap;\n",
              "      gap: 12px;\n",
              "    }\n",
              "\n",
              "    .colab-df-convert {\n",
              "      background-color: #E8F0FE;\n",
              "      border: none;\n",
              "      border-radius: 50%;\n",
              "      cursor: pointer;\n",
              "      display: none;\n",
              "      fill: #1967D2;\n",
              "      height: 32px;\n",
              "      padding: 0 0 0 0;\n",
              "      width: 32px;\n",
              "    }\n",
              "\n",
              "    .colab-df-convert:hover {\n",
              "      background-color: #E2EBFA;\n",
              "      box-shadow: 0px 1px 2px rgba(60, 64, 67, 0.3), 0px 1px 3px 1px rgba(60, 64, 67, 0.15);\n",
              "      fill: #174EA6;\n",
              "    }\n",
              "\n",
              "    [theme=dark] .colab-df-convert {\n",
              "      background-color: #3B4455;\n",
              "      fill: #D2E3FC;\n",
              "    }\n",
              "\n",
              "    [theme=dark] .colab-df-convert:hover {\n",
              "      background-color: #434B5C;\n",
              "      box-shadow: 0px 1px 3px 1px rgba(0, 0, 0, 0.15);\n",
              "      filter: drop-shadow(0px 1px 2px rgba(0, 0, 0, 0.3));\n",
              "      fill: #FFFFFF;\n",
              "    }\n",
              "  </style>\n",
              "\n",
              "      <script>\n",
              "        const buttonEl =\n",
              "          document.querySelector('#df-9b1022cd-ce8e-49ff-af34-0713fe30f252 button.colab-df-convert');\n",
              "        buttonEl.style.display =\n",
              "          google.colab.kernel.accessAllowed ? 'block' : 'none';\n",
              "\n",
              "        async function convertToInteractive(key) {\n",
              "          const element = document.querySelector('#df-9b1022cd-ce8e-49ff-af34-0713fe30f252');\n",
              "          const dataTable =\n",
              "            await google.colab.kernel.invokeFunction('convertToInteractive',\n",
              "                                                     [key], {});\n",
              "          if (!dataTable) return;\n",
              "\n",
              "          const docLinkHtml = 'Like what you see? Visit the ' +\n",
              "            '<a target=\"_blank\" href=https://colab.research.google.com/notebooks/data_table.ipynb>data table notebook</a>'\n",
              "            + ' to learn more about interactive tables.';\n",
              "          element.innerHTML = '';\n",
              "          dataTable['output_type'] = 'display_data';\n",
              "          await google.colab.output.renderOutput(dataTable, element);\n",
              "          const docLink = document.createElement('div');\n",
              "          docLink.innerHTML = docLinkHtml;\n",
              "          element.appendChild(docLink);\n",
              "        }\n",
              "      </script>\n",
              "    </div>\n",
              "  </div>\n",
              "  "
            ]
          },
          "metadata": {},
          "execution_count": 7
        }
      ]
    },
    {
      "cell_type": "code",
      "source": [
        "dataset.corr()"
      ],
      "metadata": {
        "colab": {
          "base_uri": "https://localhost:8080/",
          "height": 143
        },
        "id": "3MWS9x4t-kor",
        "outputId": "ba1d4748-8e51-4780-ec94-1f316abd8803"
      },
      "execution_count": 8,
      "outputs": [
        {
          "output_type": "execute_result",
          "data": {
            "text/plain": [
              "            altitude  heart_rate     speed\n",
              "altitude    1.000000    0.548926 -0.455681\n",
              "heart_rate  0.548926    1.000000 -0.419570\n",
              "speed      -0.455681   -0.419570  1.000000"
            ],
            "text/html": [
              "\n",
              "  <div id=\"df-e7edfd55-e342-4323-ac36-efb1a96e063f\">\n",
              "    <div class=\"colab-df-container\">\n",
              "      <div>\n",
              "<style scoped>\n",
              "    .dataframe tbody tr th:only-of-type {\n",
              "        vertical-align: middle;\n",
              "    }\n",
              "\n",
              "    .dataframe tbody tr th {\n",
              "        vertical-align: top;\n",
              "    }\n",
              "\n",
              "    .dataframe thead th {\n",
              "        text-align: right;\n",
              "    }\n",
              "</style>\n",
              "<table border=\"1\" class=\"dataframe\">\n",
              "  <thead>\n",
              "    <tr style=\"text-align: right;\">\n",
              "      <th></th>\n",
              "      <th>altitude</th>\n",
              "      <th>heart_rate</th>\n",
              "      <th>speed</th>\n",
              "    </tr>\n",
              "  </thead>\n",
              "  <tbody>\n",
              "    <tr>\n",
              "      <th>altitude</th>\n",
              "      <td>1.000000</td>\n",
              "      <td>0.548926</td>\n",
              "      <td>-0.455681</td>\n",
              "    </tr>\n",
              "    <tr>\n",
              "      <th>heart_rate</th>\n",
              "      <td>0.548926</td>\n",
              "      <td>1.000000</td>\n",
              "      <td>-0.419570</td>\n",
              "    </tr>\n",
              "    <tr>\n",
              "      <th>speed</th>\n",
              "      <td>-0.455681</td>\n",
              "      <td>-0.419570</td>\n",
              "      <td>1.000000</td>\n",
              "    </tr>\n",
              "  </tbody>\n",
              "</table>\n",
              "</div>\n",
              "      <button class=\"colab-df-convert\" onclick=\"convertToInteractive('df-e7edfd55-e342-4323-ac36-efb1a96e063f')\"\n",
              "              title=\"Convert this dataframe to an interactive table.\"\n",
              "              style=\"display:none;\">\n",
              "        \n",
              "  <svg xmlns=\"http://www.w3.org/2000/svg\" height=\"24px\"viewBox=\"0 0 24 24\"\n",
              "       width=\"24px\">\n",
              "    <path d=\"M0 0h24v24H0V0z\" fill=\"none\"/>\n",
              "    <path d=\"M18.56 5.44l.94 2.06.94-2.06 2.06-.94-2.06-.94-.94-2.06-.94 2.06-2.06.94zm-11 1L8.5 8.5l.94-2.06 2.06-.94-2.06-.94L8.5 2.5l-.94 2.06-2.06.94zm10 10l.94 2.06.94-2.06 2.06-.94-2.06-.94-.94-2.06-.94 2.06-2.06.94z\"/><path d=\"M17.41 7.96l-1.37-1.37c-.4-.4-.92-.59-1.43-.59-.52 0-1.04.2-1.43.59L10.3 9.45l-7.72 7.72c-.78.78-.78 2.05 0 2.83L4 21.41c.39.39.9.59 1.41.59.51 0 1.02-.2 1.41-.59l7.78-7.78 2.81-2.81c.8-.78.8-2.07 0-2.86zM5.41 20L4 18.59l7.72-7.72 1.47 1.35L5.41 20z\"/>\n",
              "  </svg>\n",
              "      </button>\n",
              "      \n",
              "  <style>\n",
              "    .colab-df-container {\n",
              "      display:flex;\n",
              "      flex-wrap:wrap;\n",
              "      gap: 12px;\n",
              "    }\n",
              "\n",
              "    .colab-df-convert {\n",
              "      background-color: #E8F0FE;\n",
              "      border: none;\n",
              "      border-radius: 50%;\n",
              "      cursor: pointer;\n",
              "      display: none;\n",
              "      fill: #1967D2;\n",
              "      height: 32px;\n",
              "      padding: 0 0 0 0;\n",
              "      width: 32px;\n",
              "    }\n",
              "\n",
              "    .colab-df-convert:hover {\n",
              "      background-color: #E2EBFA;\n",
              "      box-shadow: 0px 1px 2px rgba(60, 64, 67, 0.3), 0px 1px 3px 1px rgba(60, 64, 67, 0.15);\n",
              "      fill: #174EA6;\n",
              "    }\n",
              "\n",
              "    [theme=dark] .colab-df-convert {\n",
              "      background-color: #3B4455;\n",
              "      fill: #D2E3FC;\n",
              "    }\n",
              "\n",
              "    [theme=dark] .colab-df-convert:hover {\n",
              "      background-color: #434B5C;\n",
              "      box-shadow: 0px 1px 3px 1px rgba(0, 0, 0, 0.15);\n",
              "      filter: drop-shadow(0px 1px 2px rgba(0, 0, 0, 0.3));\n",
              "      fill: #FFFFFF;\n",
              "    }\n",
              "  </style>\n",
              "\n",
              "      <script>\n",
              "        const buttonEl =\n",
              "          document.querySelector('#df-e7edfd55-e342-4323-ac36-efb1a96e063f button.colab-df-convert');\n",
              "        buttonEl.style.display =\n",
              "          google.colab.kernel.accessAllowed ? 'block' : 'none';\n",
              "\n",
              "        async function convertToInteractive(key) {\n",
              "          const element = document.querySelector('#df-e7edfd55-e342-4323-ac36-efb1a96e063f');\n",
              "          const dataTable =\n",
              "            await google.colab.kernel.invokeFunction('convertToInteractive',\n",
              "                                                     [key], {});\n",
              "          if (!dataTable) return;\n",
              "\n",
              "          const docLinkHtml = 'Like what you see? Visit the ' +\n",
              "            '<a target=\"_blank\" href=https://colab.research.google.com/notebooks/data_table.ipynb>data table notebook</a>'\n",
              "            + ' to learn more about interactive tables.';\n",
              "          element.innerHTML = '';\n",
              "          dataTable['output_type'] = 'display_data';\n",
              "          await google.colab.output.renderOutput(dataTable, element);\n",
              "          const docLink = document.createElement('div');\n",
              "          docLink.innerHTML = docLinkHtml;\n",
              "          element.appendChild(docLink);\n",
              "        }\n",
              "      </script>\n",
              "    </div>\n",
              "  </div>\n",
              "  "
            ]
          },
          "metadata": {},
          "execution_count": 8
        }
      ]
    },
    {
      "cell_type": "code",
      "source": [
        "plt.figure(figsize=(9,9))\n",
        "x = dataset[\"altitude\"]\n",
        "y = dataset[\"heart_rate\"]\n",
        "plt.xlabel(\"altitude\")\n",
        "plt.ylabel(\"heart_rate\")\n",
        "plt.scatter(x, y, marker='.')\n",
        "plt.show()"
      ],
      "metadata": {
        "colab": {
          "base_uri": "https://localhost:8080/",
          "height": 551
        },
        "id": "M3APtmEc-xmD",
        "outputId": "cbe81782-2e02-4f56-9695-e9272cc5ab2e"
      },
      "execution_count": 9,
      "outputs": [
        {
          "output_type": "display_data",
          "data": {
            "text/plain": [
              "<Figure size 648x648 with 1 Axes>"
            ],
            "image/png": "[encoded data removed]"
          },
          "metadata": {
            "needs_background": "light"
          }
        }
      ]
    },
    {
      "cell_type": "code",
      "source": [
        "plt.figure(figsize=(9,9))\n",
        "x = dataset[\"speed\"]\n",
        "y = dataset[\"heart_rate\"]\n",
        "plt.xlabel(\"speed\")\n",
        "plt.ylabel(\"heart_rate\")\n",
        "plt.scatter(x, y, marker='.')\n",
        "plt.show()"
      ],
      "metadata": {
        "colab": {
          "base_uri": "https://localhost:8080/",
          "height": 551
        },
        "id": "IgDiHPO1A7YI",
        "outputId": "fe1d19f9-bf1f-4a89-e195-583298127195"
      },
      "execution_count": 10,
      "outputs": [
        {
          "output_type": "display_data",
          "data": {
            "text/plain": [
              "<Figure size 648x648 with 1 Axes>"
            ],
            "image/png": "[encoded data removed]"
          },
          "metadata": {
            "needs_background": "light"
          }
        }
      ]
    },
    {
      "cell_type": "code",
      "execution_count": 11,
      "metadata": {
        "id": "2C7CrLJNOykq"
      },
      "outputs": [],
      "source": [
        "#s\n",
        "#Normalizing the data\n",
        "\n",
        "from sklearn.preprocessing import StandardScaler\n",
        "sc = StandardScaler()\n",
        "X = sc.fit_transform(X)"
      ]
    },
    {
      "cell_type": "code",
      "source": [
        "X"
      ],
      "metadata": {
        "colab": {
          "base_uri": "https://localhost:8080/"
        },
        "id": "04MgaupUBfUo",
        "outputId": "85a687e7-0591-499f-ccd0-1a93ef9f76ff"
      },
      "execution_count": 12,
      "outputs": [
        {
          "output_type": "execute_result",
          "data": {
            "text/plain": [
              "array([[-0.71080192, -0.16176374],\n",
              "       [-0.71080192,  0.2074871 ],\n",
              "       [-0.71080192,  0.58191263],\n",
              "       ...,\n",
              "       [-1.47195041, -0.91985531],\n",
              "       [-1.47195041, -0.20685744],\n",
              "       [-1.41044346, -1.35194163]])"
            ]
          },
          "metadata": {},
          "execution_count": 12
        }
      ]
    },
    {
      "cell_type": "markdown",
      "source": [
        "**Splitting the data for training and testing¶**"
      ],
      "metadata": {
        "id": "1O6MnjnQ8mBr"
      }
    },
    {
      "cell_type": "code",
      "execution_count": 13,
      "metadata": {
        "id": "yhhh9zLFPLUD"
      },
      "outputs": [],
      "source": [
        "from sklearn.model_selection import train_test_split\n",
        "\n",
        "#s\n",
        "X_train,X_test,y_train,y_test = train_test_split(X,y,test_size=0.1,random_state=9)"
      ]
    },
    {
      "cell_type": "code",
      "execution_count": 14,
      "metadata": {
        "id": "a_BdN3p2PSCd",
        "colab": {
          "base_uri": "https://localhost:8080/"
        },
        "outputId": "fe224d8e-638f-479f-9bca-2e824082adf6"
      },
      "outputs": [
        {
          "output_type": "stream",
          "name": "stdout",
          "text": [
            "[-0.71080192 -0.16176374]\n"
          ]
        }
      ],
      "source": [
        "print(X[0])"
      ]
    },
    {
      "cell_type": "code",
      "execution_count": 15,
      "metadata": {
        "id": "OM08oxSlPWM5",
        "colab": {
          "base_uri": "https://localhost:8080/"
        },
        "outputId": "4c869f8a-9ade-444b-e642-20c8e132fbae"
      },
      "outputs": [
        {
          "output_type": "stream",
          "name": "stdout",
          "text": [
            "4989\n"
          ]
        }
      ],
      "source": [
        "print(len(y))"
      ]
    },
    {
      "cell_type": "code",
      "source": [
        "print(len(X))"
      ],
      "metadata": {
        "colab": {
          "base_uri": "https://localhost:8080/"
        },
        "id": "1DBVPsXgBv7K",
        "outputId": "3da2c228-0cac-417e-d846-f68fc52105c8"
      },
      "execution_count": 16,
      "outputs": [
        {
          "output_type": "stream",
          "name": "stdout",
          "text": [
            "4989\n"
          ]
        }
      ]
    },
    {
      "cell_type": "code",
      "source": [
        "print(X.shape)\n",
        "print(X_train.shape)\n",
        "print(y_train.shape)\n",
        "\n",
        "print(X_test.shape)\n",
        "print(y_test.shape)"
      ],
      "metadata": {
        "colab": {
          "base_uri": "https://localhost:8080/"
        },
        "id": "wiUL-r4PTj70",
        "outputId": "c4872ca9-6f59-43c3-ba2a-afc744fbf72a"
      },
      "execution_count": 17,
      "outputs": [
        {
          "output_type": "stream",
          "name": "stdout",
          "text": [
            "(4989, 2)\n",
            "(4490, 2)\n",
            "(4490,)\n",
            "(499, 2)\n",
            "(499,)\n"
          ]
        }
      ]
    },
    {
      "cell_type": "code",
      "source": [
        "y_test"
      ],
      "metadata": {
        "colab": {
          "base_uri": "https://localhost:8080/"
        },
        "id": "B7vh5_AZHjpH",
        "outputId": "fabd809f-523c-4b31-b72b-70497a14af29"
      },
      "execution_count": 18,
      "outputs": [
        {
          "output_type": "execute_result",
          "data": {
            "text/plain": [
              "2604    147\n",
              "1368    174\n",
              "1320    173\n",
              "343     127\n",
              "4802    110\n",
              "       ... \n",
              "1682    175\n",
              "431     119\n",
              "392     131\n",
              "577     130\n",
              "1894    180\n",
              "Name: heart_rate, Length: 499, dtype: int64"
            ]
          },
          "metadata": {},
          "execution_count": 18
        }
      ]
    },
    {
      "cell_type": "markdown",
      "metadata": {
        "id": "kpBbkouEHxbS"
      },
      "source": [
        "**Simulate local clients**"
      ]
    },
    {
      "cell_type": "code",
      "execution_count": 19,
      "metadata": {
        "id": "PomfF69APd63"
      },
      "outputs": [],
      "source": [
        "#shard creation...share the training set into 10 shards, one per client\n",
        "#creating clients as data shards\n",
        "def create_clients(X, y, num_clients=10, initial='clients'):\n",
        "    ''' return: a dictionary with keys clients' names and value as \n",
        "                data shards - tuple of images and label lists.\n",
        "        args: \n",
        "            X:  training data\n",
        "            y: binarized labels for each training data\n",
        "            num_client: number of fedrated members (clients)\n",
        "            initials: the clients'name prefix, e.g, clients_1 \n",
        "            \n",
        "    '''\n",
        "\n",
        "    #create a list of client names\n",
        "    client_names = ['{}_{}'.format(initial, i+1) for i in range(num_clients)]\n",
        "\n",
        "    #randomize the data\n",
        "    data = list(zip(X, y))\n",
        "    random.shuffle(data)\n",
        "\n",
        "    #shard data and place at each client\n",
        "    size = len(data)//num_clients\n",
        "    shards = [data[i:i + size] for i in range(0, size*num_clients, size)]\n",
        "\n",
        "    #number of clients must equal number of shards\n",
        "    assert(len(shards) == len(client_names))\n",
        "\n",
        "    return {client_names[i] : shards[i] for i in range(len(client_names))} "
      ]
    },
    {
      "cell_type": "code",
      "execution_count": 20,
      "metadata": {
        "id": "F8Q9iWM0wJiD"
      },
      "outputs": [],
      "source": [
        "#create clients\n",
        "clients = create_clients(X_train, y_train, num_clients=3, initial='client')"
      ]
    },
    {
      "cell_type": "markdown",
      "source": [
        "**Processing and Batching client's and test data**"
      ],
      "metadata": {
        "id": "TmzjVNGXRkWd"
      }
    },
    {
      "cell_type": "code",
      "execution_count": 21,
      "metadata": {
        "id": "SMinndskwKaU"
      },
      "outputs": [],
      "source": [
        "#process each of the client's data into tensorflow dataset and batch them. \n",
        "def batch_data(data_shard, bs=32):\n",
        "    '''Takes in a clients data shard and create a tfds object of it\n",
        "    args:\n",
        "        shard: a data, label constituting a client's data shard\n",
        "        bs:batch size\n",
        "    return:\n",
        "        tfds object'''\n",
        "    #seperate shard into data and labels lists\n",
        "    data, label = zip(*data_shard)\n",
        "    dataset = tf.data.Dataset.from_tensor_slices((list(data), list(label)))\n",
        "    return dataset.shuffle(len(label)).batch(bs)"
      ]
    },
    {
      "cell_type": "code",
      "execution_count": 22,
      "metadata": {
        "id": "Ty64pf9axp2E",
        "colab": {
          "base_uri": "https://localhost:8080/"
        },
        "outputId": "db30708c-6ca2-4949-fa60-294491c2f762"
      },
      "outputs": [
        {
          "output_type": "stream",
          "name": "stdout",
          "text": [
            "aashma\n",
            "aashma\n",
            "aashma\n"
          ]
        }
      ],
      "source": [
        "#process and batch the training data for each client\n",
        "clients_batched = dict()\n",
        "for (client_name, data) in clients.items():\n",
        "    clients_batched[client_name] = batch_data(data)\n",
        "    print(\"aashma\")\n",
        "\n",
        "#process and batch the test data set  \n",
        "test_batched = tf.data.Dataset.from_tensor_slices((X_test, y_test)).batch(len(y_test))"
      ]
    },
    {
      "cell_type": "code",
      "source": [
        "test_batched"
      ],
      "metadata": {
        "colab": {
          "base_uri": "https://localhost:8080/"
        },
        "id": "sDb4_7cclgt0",
        "outputId": "db481920-1f96-4144-ba89-4d57e2d2705b"
      },
      "execution_count": 65,
      "outputs": [
        {
          "output_type": "execute_result",
          "data": {
            "text/plain": [
              "<BatchDataset element_spec=(TensorSpec(shape=(None, 2), dtype=tf.float64, name=None), TensorSpec(shape=(None,), dtype=tf.int64, name=None))>"
            ]
          },
          "metadata": {},
          "execution_count": 65
        }
      ]
    },
    {
      "cell_type": "code",
      "execution_count": 23,
      "metadata": {
        "id": "5HfITn7Lx2JO",
        "colab": {
          "base_uri": "https://localhost:8080/"
        },
        "outputId": "973a6da8-c803-462b-b014-80032f8d4c7a"
      },
      "outputs": [
        {
          "output_type": "stream",
          "name": "stdout",
          "text": [
            "<BatchDataset element_spec=(TensorSpec(shape=(None, 2), dtype=tf.float64, name=None), TensorSpec(shape=(None,), dtype=tf.int32, name=None))>\n"
          ]
        }
      ],
      "source": [
        "print(clients_batched['client_1'])"
      ]
    },
    {
      "cell_type": "markdown",
      "metadata": {
        "id": "vYXpAK0vHA6B"
      },
      "source": [
        "**Model architecture** "
      ]
    },
    {
      "cell_type": "markdown",
      "source": [
        "**creating MLP model**"
      ],
      "metadata": {
        "id": "WO-mPG4HSejl"
      }
    },
    {
      "cell_type": "code",
      "source": [
        "from keras.models import Sequential\n",
        "from keras.layers import Dense\n",
        "from keras.layers import LSTM\n",
        "from keras.layers import Dropout\n",
        "\n",
        "def lstm_model():\n",
        "  model = Sequential()\n",
        "\n",
        "  model.add(LSTM(units = 50, return_sequences = True, input_shape = (X_train.shape[1], 1)))\n",
        "  model.add(Dropout(0.2))\n",
        "\n",
        "  model.add(LSTM(units = 50, return_sequences = True))\n",
        "  model.add(Dropout(0.2))\n",
        "\n",
        "  model.add(LSTM(units = 50, return_sequences = True))\n",
        "  model.add(Dropout(0.2))\n",
        "\n",
        "  model.add(LSTM(units = 50))\n",
        "  model.add(Dropout(0.2))\n",
        "\n",
        "  model.add(Dense(units = 1))\n",
        "\n",
        "  return model\n",
        "\n",
        "model = lstm_model()\n",
        "model.summary()"
      ],
      "metadata": {
        "colab": {
          "base_uri": "https://localhost:8080/"
        },
        "id": "6ghFlS78uoK_",
        "outputId": "dfb49e1c-9292-4fea-9b93-9eeb75ab5bdf"
      },
      "execution_count": 24,
      "outputs": [
        {
          "output_type": "stream",
          "name": "stdout",
          "text": [
            "Model: \"sequential\"\n",
            "_________________________________________________________________\n",
            " Layer (type)                Output Shape              Param #   \n",
            "=================================================================\n",
            " lstm (LSTM)                 (None, 2, 50)             10400     \n",
            "                                                                 \n",
            " dropout (Dropout)           (None, 2, 50)             0         \n",
            "                                                                 \n",
            " lstm_1 (LSTM)               (None, 2, 50)             20200     \n",
            "                                                                 \n",
            " dropout_1 (Dropout)         (None, 2, 50)             0         \n",
            "                                                                 \n",
            " lstm_2 (LSTM)               (None, 2, 50)             20200     \n",
            "                                                                 \n",
            " dropout_2 (Dropout)         (None, 2, 50)             0         \n",
            "                                                                 \n",
            " lstm_3 (LSTM)               (None, 50)                20200     \n",
            "                                                                 \n",
            " dropout_3 (Dropout)         (None, 50)                0         \n",
            "                                                                 \n",
            " dense (Dense)               (None, 1)                 51        \n",
            "                                                                 \n",
            "=================================================================\n",
            "Total params: 71,051\n",
            "Trainable params: 71,051\n",
            "Non-trainable params: 0\n",
            "_________________________________________________________________\n"
          ]
        }
      ]
    },
    {
      "cell_type": "code",
      "source": [
        "model.compile(optimizer = 'adam', loss = 'mean_squared_error')"
      ],
      "metadata": {
        "id": "WF4a_n-Y3RP0"
      },
      "execution_count": 25,
      "outputs": []
    },
    {
      "cell_type": "markdown",
      "source": [
        "**Global Training Parameters**"
      ],
      "metadata": {
        "id": "uL9YrQMH_VBo"
      }
    },
    {
      "cell_type": "code",
      "execution_count": 26,
      "metadata": {
        "id": "qmuNkGpmyL6F"
      },
      "outputs": [],
      "source": [
        "learning_rate = 0.01 \n",
        "comms_round = 2 #no of global epochs(aggregation)\n",
        "\n",
        "#s\n",
        "loss='mean_squared_error' \n",
        "metrics = ['mae']\n",
        "optimizer=keras.optimizers.Adam(learning_rate=learning_rate) #optimizer           "
      ]
    },
    {
      "cell_type": "markdown",
      "source": [
        "**Federated Averaging**"
      ],
      "metadata": {
        "id": "e1CNhpTZd242"
      }
    },
    {
      "cell_type": "code",
      "execution_count": 27,
      "metadata": {
        "id": "es0ENS6SyWbs"
      },
      "outputs": [],
      "source": [
        "def weight_scalling_factor(clients_trn_data, client_name):\n",
        "    client_names = list(clients_trn_data.keys())\n",
        "    #get the bs\n",
        "    bs = list(clients_trn_data[client_name])[0][0].shape[0]\n",
        "    #first calculate the total training data points across clients\n",
        "    global_count = sum([tf.data.experimental.cardinality(clients_trn_data[client_name]).numpy() for client_name in client_names])*bs\n",
        "    # get the total number of data points held by a client\n",
        "    local_count = tf.data.experimental.cardinality(clients_trn_data[client_name]).numpy()*bs\n",
        "    return local_count/global_count #scaling factor"
      ]
    },
    {
      "cell_type": "code",
      "execution_count": 28,
      "metadata": {
        "id": "SGnFRjYXzBvj"
      },
      "outputs": [],
      "source": [
        "#this scales each of the local model's weights based on the value of their scaling factor\n",
        "def scale_model_weights(weight, scalar):\n",
        "    '''function for scaling a models weights'''\n",
        "    weight_final = []\n",
        "    steps = len(weight)\n",
        "    for i in range(steps):\n",
        "        weight_final.append(scalar * weight[i])\n",
        "    return weight_final"
      ]
    },
    {
      "cell_type": "code",
      "execution_count": 29,
      "metadata": {
        "id": "ftO4wShPzatA"
      },
      "outputs": [],
      "source": [
        "#sums all clients scaled weights together\n",
        "def sum_scaled_weights(scaled_weight_list):\n",
        "    '''Return the sum of the listed scaled weights. The is equivalent to scaled avg of the weights'''\n",
        "    avg_grad = list()\n",
        "    #get the average grad accross all client gradients\n",
        "    for grad_list_tuple in zip(*scaled_weight_list):\n",
        "        layer_mean = tf.math.reduce_sum(grad_list_tuple, axis=0)\n",
        "        avg_grad.append(layer_mean)\n",
        "        \n",
        "    return avg_grad"
      ]
    },
    {
      "cell_type": "code",
      "source": [
        "def test_model(X_test, Y_test, model, comm_round):\n",
        "    cce = tf.keras.losses.CategoricalCrossentropy(from_logits=True)\n",
        "    #logits = model.predict(X_test, batch_size=100)\n",
        "    print(Y_test.shape)\n",
        "    logits = model.predict(X_test)\n",
        "    print(logits.shape)\n",
        "    logits = logits.Flatten()\n",
        "    loss = cce(Y_test, logits)\n",
        "    acc = accuracy_score(tf.argmax(logits, axis=1), tf.argmax(Y_test, axis=1))\n",
        "    print('comm_round: {} | global_acc: {:.3%} | global_loss: {}'.format(comm_round, acc, loss))\n",
        "    return logits, acc, loss"
      ],
      "metadata": {
        "id": "dcg8iL8RLBSA"
      },
      "execution_count": 30,
      "outputs": []
    },
    {
      "cell_type": "markdown",
      "source": [
        "**Federated Model Training**"
      ],
      "metadata": {
        "id": "4WJ9d4eve4Z_"
      }
    },
    {
      "cell_type": "code",
      "source": [
        "#s\n",
        "#initialize global model\n",
        "\n",
        "smlp_global = lstm_model()\n",
        "\n",
        "global_model = model\n",
        "global_r2_list = []\n",
        "global_loss_list = []\n",
        "global_precision_list = []\n",
        "\n",
        "#s\n",
        "history=[]"
      ],
      "metadata": {
        "id": "E8N_d1R1sGD6"
      },
      "execution_count": 46,
      "outputs": []
    },
    {
      "cell_type": "code",
      "source": [
        "from sklearn.metrics import r2_score"
      ],
      "metadata": {
        "id": "iMQ1u_TVh9Kl"
      },
      "execution_count": 47,
      "outputs": []
    },
    {
      "cell_type": "code",
      "execution_count": 69,
      "metadata": {
        "id": "bbLC1NE1zpXO",
        "colab": {
          "base_uri": "https://localhost:8080/"
        },
        "outputId": "d57625f3-a9b4-44c3-aa99-c7a780316444"
      },
      "outputs": [
        {
          "output_type": "stream",
          "name": "stdout",
          "text": [
            "['client_1', 'client_2', 'client_3']\n",
            "47\n",
            "Communicating With:  client_3\n",
            "Epoch 1/5\n",
            "47/47 [==============================] - 10s 11ms/step - loss: 658.0908 - mae: 20.4872\n",
            "Epoch 2/5\n",
            "47/47 [==============================] - 1s 11ms/step - loss: 645.4216 - mae: 20.3699\n",
            "Epoch 3/5\n",
            "47/47 [==============================] - 1s 11ms/step - loss: 636.9991 - mae: 20.3649\n",
            "Epoch 4/5\n",
            "47/47 [==============================] - 1s 11ms/step - loss: 637.4413 - mae: 20.4305\n",
            "Epoch 5/5\n",
            "47/47 [==============================] - 1s 11ms/step - loss: 629.4866 - mae: 20.0211\n",
            "47\n",
            "Communicating With:  client_2\n",
            "Epoch 1/5\n",
            "47/47 [==============================] - 7s 11ms/step - loss: 698.5052 - mae: 20.9339\n",
            "Epoch 2/5\n",
            "47/47 [==============================] - 1s 11ms/step - loss: 671.7274 - mae: 20.7261\n",
            "Epoch 3/5\n",
            "47/47 [==============================] - 1s 11ms/step - loss: 667.1790 - mae: 20.5994\n",
            "Epoch 4/5\n",
            "47/47 [==============================] - 1s 12ms/step - loss: 642.5334 - mae: 20.3355\n",
            "Epoch 5/5\n",
            "47/47 [==============================] - 0s 10ms/step - loss: 623.0834 - mae: 19.9019\n",
            "47\n",
            "Communicating With:  client_1\n",
            "Epoch 1/5\n",
            "47/47 [==============================] - 7s 11ms/step - loss: 713.0075 - mae: 21.4345\n",
            "Epoch 2/5\n",
            "47/47 [==============================] - 1s 11ms/step - loss: 667.4821 - mae: 20.5610\n",
            "Epoch 3/5\n",
            "47/47 [==============================] - 1s 11ms/step - loss: 662.3036 - mae: 20.6282\n",
            "Epoch 4/5\n",
            "47/47 [==============================] - 1s 11ms/step - loss: 641.5480 - mae: 20.1855\n",
            "Epoch 5/5\n",
            "47/47 [==============================] - 1s 11ms/step - loss: 650.0328 - mae: 20.4423\n",
            "Saved model to disk\n",
            "comm_round: 0 | global_r2: -0.016438287376162597\n",
            "Preds: [138.55229 138.55229 138.55229 138.55229 138.55229]\n",
            "Y_test: [147 174 173 127 110]\n",
            "['client_1', 'client_2', 'client_3']\n",
            "47\n",
            "Communicating With:  client_3\n",
            "Epoch 1/5\n",
            "47/47 [==============================] - 9s 11ms/step - loss: 612.7950 - mae: 19.8846\n",
            "Epoch 2/5\n",
            "47/47 [==============================] - 1s 11ms/step - loss: 631.5016 - mae: 20.3688\n",
            "Epoch 3/5\n",
            "47/47 [==============================] - 0s 10ms/step - loss: 619.9698 - mae: 20.0186\n",
            "Epoch 4/5\n",
            "47/47 [==============================] - 1s 11ms/step - loss: 625.3345 - mae: 20.1074\n",
            "Epoch 5/5\n",
            "47/47 [==============================] - 0s 10ms/step - loss: 619.9843 - mae: 20.0815\n",
            "47\n",
            "Communicating With:  client_1\n",
            "Epoch 1/5\n",
            "47/47 [==============================] - 7s 11ms/step - loss: 628.5463 - mae: 19.9564\n",
            "Epoch 2/5\n",
            "47/47 [==============================] - 0s 11ms/step - loss: 619.2518 - mae: 19.8263\n",
            "Epoch 3/5\n",
            "47/47 [==============================] - 1s 11ms/step - loss: 639.8182 - mae: 20.2826\n",
            "Epoch 4/5\n",
            "47/47 [==============================] - 0s 10ms/step - loss: 617.7482 - mae: 19.8040\n",
            "Epoch 5/5\n",
            "47/47 [==============================] - 1s 11ms/step - loss: 603.1832 - mae: 19.5578\n",
            "47\n",
            "Communicating With:  client_2\n",
            "Epoch 1/5\n",
            "47/47 [==============================] - 7s 11ms/step - loss: 612.4901 - mae: 19.8871\n",
            "Epoch 2/5\n",
            "47/47 [==============================] - 1s 11ms/step - loss: 610.4548 - mae: 19.7231\n",
            "Epoch 3/5\n",
            "47/47 [==============================] - 0s 10ms/step - loss: 620.2668 - mae: 20.1336\n",
            "Epoch 4/5\n",
            "47/47 [==============================] - 1s 11ms/step - loss: 632.6237 - mae: 20.2331\n",
            "Epoch 5/5\n",
            "47/47 [==============================] - 1s 11ms/step - loss: 617.7493 - mae: 19.8439\n",
            "Saved model to disk\n",
            "comm_round: 1 | global_r2: -0.0013218600539994796\n",
            "Preds: [140.66196 140.66196 140.66196 140.66196 140.66196]\n",
            "Y_test: [147 174 173 127 110]\n"
          ]
        }
      ],
      "source": [
        "#commence global training loop\n",
        "for comm_round in range(comms_round):\n",
        "    \n",
        "    # get the global model's weights - will serve as the initial weights for all local models\n",
        "    global_weights = global_model.get_weights()\n",
        "    \n",
        "    #initial list to collect local model weights after scalling\n",
        "    scaled_local_weight_list = list()\n",
        "\n",
        "    #randomize client data - using keys\n",
        "    client_names= list(clients_batched.keys())\n",
        "    print(client_names)\n",
        "    random.shuffle(client_names)\n",
        "    \n",
        "    #loop through each client and create new local model\n",
        "    for client in client_names:        \n",
        "        \n",
        "   #santee\n",
        "        local_model = lstm_model()\n",
        "        local_model.compile(optimizer = 'adam', loss = 'mean_squared_error' ,metrics= metrics)\n",
        "        \n",
        "        #set local model weight to the weight of the global model\n",
        "        local_model.set_weights(global_weights)\n",
        "        \n",
        "        print(f\"{len(clients_batched[client])}\")\n",
        "\n",
        "        #fit local model with client's data\n",
        "        print('Communicating With: ', client)\n",
        "        history.append(local_model.fit(clients_batched[client], epochs = 5, batch_size = 32,verbose=1))\n",
        "      \n",
        "        #scale the model weights and add to list\n",
        "        scaling_factor = weight_scalling_factor(clients_batched, client)\n",
        "        scaled_weights = scale_model_weights(local_model.get_weights(), scaling_factor)\n",
        "        scaled_local_weight_list.append(scaled_weights)\n",
        "        \n",
        "        #clear session to free memory after each communication round\n",
        "        K.clear_session()\n",
        " #endsantee\n",
        "\n",
        "    #to get the average over all the local model, we simply take the sum of the scaled weights\n",
        "    average_weights = sum_scaled_weights(scaled_local_weight_list)\n",
        "    \n",
        "    #update global model \n",
        "    global_model.set_weights(average_weights)\n",
        "\n",
        "\n",
        "#saving the model\n",
        "    model_json = global_model.to_json()\n",
        "    with open(\"global_model.json\", \"w\") as json_file:\n",
        "      json_file.write(model_json)\n",
        "    # serialize weights to HDF5\n",
        "    print(\"Saved model to disk\")\n",
        "    global_model.save_weights(\"model.h5\")\n",
        "\n",
        "    #test global model and print out metrics after each communications round\n",
        "\n",
        "    for(X_test, Y_test) in test_batched:\n",
        "\n",
        "        preds = global_model.predict(X_test)\n",
        "        preds = preds.flatten()\n",
        "        global_r2 = r2_score(Y_test, preds)\n",
        "        print('comm_round: {} | global_r2: {}'.format(comm_round, global_r2))\n",
        "\n",
        "        global_r2_list.append(global_r2)\n",
        "        y_pred = global_model.predict(X_test)\n",
        "\n",
        "        print(f\"Preds: {preds[:5]}\")\n",
        "        print(f\"Y_test: {Y_test[:5]}\")"
      ]
    },
    {
      "cell_type": "code",
      "source": [
        "globa"
      ],
      "metadata": {
        "id": "E4DR4laImhUr"
      },
      "execution_count": null,
      "outputs": []
    },
    {
      "cell_type": "code",
      "source": [
        "for(X_test, Y_test) in test_batched:\n",
        "    print(X_test)\n",
        "    break"
      ],
      "metadata": {
        "colab": {
          "base_uri": "https://localhost:8080/"
        },
        "id": "EKQ0SaGAmCf1",
        "outputId": "ebff7a56-3a9e-4f57-a684-d0841ab84f9c"
      },
      "execution_count": 68,
      "outputs": [
        {
          "output_type": "stream",
          "name": "stdout",
          "text": [
            "tf.Tensor(\n",
            "[[ 8.49936891e-01 -9.92300923e-01]\n",
            " [-6.18541501e-01 -6.60012126e-01]\n",
            " [-5.07060157e-01 -5.86827274e-01]\n",
            " [-6.49294975e-01 -1.88746034e-01]\n",
            " [-9.37608795e-01  3.26055214e+00]\n",
            " [-1.53395204e-01 -5.89414617e-01]\n",
            " [-6.87736818e-01 -1.10873137e+00]\n",
            " [-1.64878289e+00 -3.66533477e-01]\n",
            " [ 9.30664761e-01 -8.58128694e-01]\n",
            " [ 2.11467352e+00 -7.87900806e-01]\n",
            " [-1.39506672e+00  7.84895612e-02]\n",
            " [ 2.28381762e+00 -9.03592011e-01]\n",
            " [-8.10750714e-01  2.01640965e+00]\n",
            " [ 4.34764990e-01 -8.91024916e-01]\n",
            " [ 1.15362745e+00 -8.23014750e-01]\n",
            " [-3.26383496e-01  1.04726480e+00]\n",
            " [ 2.32610365e+00 -7.73115988e-01]\n",
            " [ 7.03857889e-01 -8.13034998e-01]\n",
            " [ 4.50141727e-01  1.79395948e-01]\n",
            " [ 2.73309250e-01 -9.01743909e-01]\n",
            " [ 3.65569673e-01 -9.41293299e-01]\n",
            " [-5.45502000e-01 -7.13976713e-01]\n",
            " [ 3.42504567e-01  1.77209053e+00]\n",
            " [-2.72564916e-01 -1.17039664e-01]\n",
            " [-1.39506672e+00 -4.03865144e-01]\n",
            " [ 2.12620607e+00 -8.45191978e-01]\n",
            " [ 8.88378734e-01 -9.15789487e-01]\n",
            " [-1.06446688e+00  9.11983707e-01]\n",
            " [-3.03318391e-01  4.93203722e-01]\n",
            " [-4.14799734e-01 -3.53596761e-01]\n",
            " [-8.33815820e-01  1.60850469e-03]\n",
            " [ 1.35352503e+00 -8.96938843e-01]\n",
            " [ 4.07855700e-01 -8.90655295e-01]\n",
            " [-2.76409101e-01 -6.40052621e-01]\n",
            " [-1.99525415e-01  5.85239217e-01]\n",
            " [-1.52576899e+00  1.13264712e+00]\n",
            " [-5.18592710e-01  2.58303782e+00]\n",
            " [ 1.04165142e-01 -2.24968840e-01]\n",
            " [-5.14748526e-01 -4.83703164e-01]\n",
            " [ 2.25690833e+00 -8.21166648e-01]\n",
            " [ 2.27997344e+00 -9.09875559e-01]\n",
            " [-1.28742956e+00  6.70313268e-02]\n",
            " [-4.95527604e-01  1.18180665e+00]\n",
            " [-3.68669523e-01  5.31274629e-01]\n",
            " [ 3.46348751e-01 -8.78827440e-01]\n",
            " [-8.76101847e-01  4.22975834e-01]\n",
            " [ 4.26581940e-02  2.24859265e-01]\n",
            " [-2.84097469e-01  1.72256138e+00]\n",
            " [-4.18643919e-01  9.39705242e-01]\n",
            " [-5.80099658e-01 -6.16766531e-01]\n",
            " [-5.68567105e-01 -6.65926053e-01]\n",
            " [ 4.19388253e-01 -8.13404618e-01]\n",
            " [ 2.61776697e-01 -9.81890206e-02]\n",
            " [ 3.80946410e-01 -8.11926136e-01]\n",
            " [ 2.04113933e-01  5.21664497e-01]\n",
            " [ 2.31457110e+00 -9.45728744e-01]\n",
            " [-2.84097469e-01  1.29786747e+00]\n",
            " [-3.14850943e-01  1.27716873e+00]\n",
            " [-1.31818304e+00  1.18778192e-01]\n",
            " [ 2.80997619e-01 -7.91966631e-01]\n",
            " [ 2.34148039e+00 -6.02351333e-01]\n",
            " [-2.41811442e-01  1.11010028e+00]\n",
            " [-4.26332287e-01 -3.24027124e-01]\n",
            " [-5.80099658e-01 -6.66665294e-01]\n",
            " [ 4.19388253e-01  1.63132647e-01]\n",
            " [-2.11057968e-01  6.16656957e-01]\n",
            " [ 2.25690833e+00 -7.89748909e-01]\n",
            " [ 6.23130019e-01 -1.07620477e+00]\n",
            " [-9.64518085e-01  4.41148580e-02]\n",
            " [-5.80099658e-01 -6.61860228e-01]\n",
            " [-1.50654807e+00  5.52034720e-02]\n",
            " [-5.80099658e-01 -6.05677918e-01]\n",
            " [-4.60929946e-01  1.06611544e+00]\n",
            " [-1.12981801e+00  6.74009473e-02]\n",
            " [-9.60673901e-01  1.40283968e+00]\n",
            " [-6.80048449e-01  1.25905732e+00]\n",
            " [ 2.31457110e+00 -7.09171647e-01]\n",
            " [ 1.19206929e+00 -9.09505939e-01]\n",
            " [ 1.11853511e-01  5.33553696e-02]\n",
            " [-1.57958757e+00 -4.68179105e-01]\n",
            " [-1.57239388e-01 -3.36594220e-01]\n",
            " [ 1.47653893e+00 -1.39666571e+00]\n",
            " [ 2.28766181e+00 -9.60883183e-01]\n",
            " [ 6.95674839e-02 -3.32158774e-01]\n",
            " [-4.18643919e-01  7.04626627e-01]\n",
            " [ 6.19285835e-01 -1.11981998e+00]\n",
            " [ 3.77102226e-01 -8.51475526e-01]\n",
            " [-9.87583191e-01  1.88266839e-01]\n",
            " [-1.88487544e-02  9.73710325e-01]\n",
            " [-1.64109452e+00 -7.39110905e-01]\n",
            " [ 4.27076621e-01 -8.51105906e-01]\n",
            " [-5.33969447e-01  1.18439399e+00]\n",
            " [ 1.08009327e-01  7.72267172e-01]\n",
            " [-1.11603858e-02  7.84834268e-01]\n",
            " [-1.39891091e+00  3.99689744e-01]\n",
            " [ 2.18002465e+00 -8.01207143e-01]\n",
            " [ 3.92478963e-01 -8.95460361e-01]\n",
            " [ 7.34611363e-01 -1.06511615e+00]\n",
            " [ 2.38711592e-01 -3.92037289e-01]\n",
            " [-9.83739007e-01  2.77006578e+00]\n",
            " [ 5.30869597e-01 -8.82893265e-01]\n",
            " [-1.61083572e-01  1.67192338e+00]\n",
            " [-3.26383496e-01  1.04726480e+00]\n",
            " [-3.84046260e-01 -5.52822191e-01]\n",
            " [ 2.15646486e-01  3.71228969e-01]\n",
            " [ 3.77102226e-01  1.49302708e+00]\n",
            " [ 4.92427754e-01  1.83092152e-01]\n",
            " [-4.76306683e-01  9.77776150e-01]\n",
            " [ 1.13825071e+00 -7.76812192e-01]\n",
            " [-4.34020656e-01 -4.52285425e-01]\n",
            " [ 2.02625728e+00 -7.30979255e-01]\n",
            " [ 2.11082933e+00 -9.74559141e-01]\n",
            " [ 1.79945041e+00 -1.02408828e+00]\n",
            " [-9.60673901e-01 -2.68953675e-01]\n",
            " [-1.06446688e+00  6.66186099e-01]\n",
            " [-9.95271560e-01  2.67766066e+00]\n",
            " [ 4.34764990e-01 -8.64042622e-01]\n",
            " [ 2.18386883e+00 -7.87161565e-01]\n",
            " [-1.24898772e+00  5.37558177e-01]\n",
            " [-4.64774130e-01 -3.74665128e-01]\n",
            " [-5.03215973e-01 -4.41196811e-01]\n",
            " [-9.57324398e-02  2.14060213e+00]\n",
            " [ 3.72166968e-04  1.11564458e+00]\n",
            " [-1.42197601e+00  1.38214094e+00]\n",
            " [-8.03062346e-01 -3.75404369e-01]\n",
            " [ 2.77153435e-01 -8.55171731e-01]\n",
            " [ 4.92427754e-01  3.13198556e-01]\n",
            " [ 1.44962964e+00 -9.97105989e-01]\n",
            " [-4.60929946e-01 -4.89247471e-01]\n",
            " [-5.37813631e-01 -2.86325837e-01]\n",
            " [ 2.77153435e-01 -8.33733744e-01]\n",
            " [-4.53241577e-01  1.01399896e+00]\n",
            " [-7.53087950e-01 -3.56553725e-01]\n",
            " [ 6.53883493e-01 -8.37060328e-01]\n",
            " [ 2.57932513e-01 -8.51105906e-01]\n",
            " [-1.38737836e+00  1.26016618e+00]\n",
            " [ 2.65620882e-01 -8.78827440e-01]\n",
            " [-3.34071865e-01  6.10003788e-01]\n",
            " [-8.68413479e-01 -6.21201977e-01]\n",
            " [-3.34071865e-01  1.24316364e+00]\n",
            " [ 6.65416046e-01 -8.73652754e-01]\n",
            " [ 2.88685987e-01 -4.70027207e-01]\n",
            " [ 3.65569673e-01 -1.10392630e+00]\n",
            " [-1.06446688e+00 -1.34411826e-01]\n",
            " [-3.68669523e-01 -5.11794320e-01]\n",
            " [-5.76255474e-01 -8.85850229e-01]\n",
            " [ 6.88481152e-01 -1.05476678e+00]\n",
            " [-2.41811442e-01  1.54477394e+00]\n",
            " [-1.64927757e-01 -5.21034831e-01]\n",
            " [-4.07111366e-01  6.30702534e-01]\n",
            " [-1.06446688e+00  8.62515909e-02]\n",
            " [ 4.19388253e-01 -8.82154025e-01]\n",
            " [-4.83995051e-01 -5.66867769e-01]\n",
            " [-3.41760233e-01  8.79087486e-01]\n",
            " [ 2.31023223e-01  8.44712783e-01]\n",
            " [ 2.02625728e+00 -8.32994503e-01]\n",
            " [-5.22436894e-01 -5.34710788e-01]\n",
            " [ 1.82251551e+00 -1.35711632e+00]\n",
            " [-1.00295993e+00  5.49755653e-01]\n",
            " [-5.87788027e-01 -3.75773989e-01]\n",
            " [-3.07162575e-01 -6.58164023e-01]\n",
            " [ 2.15646486e-01 -9.50903431e-01]\n",
            " [-9.22232058e-01  3.27983374e-01]\n",
            " [-4.34020656e-01 -4.30847438e-01]\n",
            " [ 2.14927118e+00 -8.04164107e-01]\n",
            " [-7.41555398e-01 -6.08573537e-02]\n",
            " [-5.33969447e-01  6.42160769e-01]\n",
            " [ 2.33763620e+00 -6.98083034e-01]\n",
            " [-4.10955550e-01 -4.67809484e-01]\n",
            " [-1.03371340e+00 -1.96508064e-01]\n",
            " [-1.06446688e+00  2.81411196e-01]\n",
            " [-4.64774130e-01 -5.47277884e-01]\n",
            " [-8.03557027e-02  5.49755653e-01]\n",
            " [-1.11109177e-01  1.55918914e+00]\n",
            " [ 2.96374356e-01 -8.99526186e-01]\n",
            " [-1.62956196e+00 -4.51915805e-01]\n",
            " [ 1.47653893e+00 -7.91227390e-01]\n",
            " [ 1.58802027e+00 -1.30204287e+00]\n",
            " [-1.01833667e+00  1.31376115e+00]\n",
            " [-1.53730154e+00  1.78983231e+00]\n",
            " [-1.76460310e-01  2.08287688e-02]\n",
            " [-1.56421083e+00  1.66859680e+00]\n",
            " [-1.30665049e+00  1.15882572e-02]\n",
            " [-5.30125263e-01  2.84990380e+00]\n",
            " [-4.26332287e-01 -6.62599469e-01]\n",
            " [-1.06446688e+00 -1.32643782e+00]\n",
            " [-1.14519475e+00  2.75127648e-01]\n",
            " [ 4.61674280e-01 -4.28629715e-01]\n",
            " [-6.10853132e-01 -6.40052621e-01]\n",
            " [-6.53139159e-01  2.73716956e+00]\n",
            " [ 2.12236189e+00 -8.85480609e-01]\n",
            " [ 2.37607805e+00 -7.79399536e-01]\n",
            " [-6.22385685e-01 -6.27855145e-01]\n",
            " [ 2.54088329e-01 -8.02316004e-01]\n",
            " [-1.76460310e-01 -5.14012042e-01]\n",
            " [ 2.80997619e-01 -8.63673001e-01]\n",
            " [-4.22488103e-01  8.02576050e-01]\n",
            " [-1.04524596e+00 -4.81115821e-01]\n",
            " [ 3.27127830e-01 -8.65890724e-01]\n",
            " [-4.53241577e-01  1.41171057e+00]\n",
            " [ 1.39965524e+00 -8.46300840e-01]\n",
            " [ 2.16849210e+00 -8.58867935e-01]\n",
            " [ 4.27076621e-01 -8.62564140e-01]\n",
            " [-9.64518085e-01  3.24059263e+00]\n",
            " [-2.68720732e-01  3.41289711e-01]\n",
            " [-5.57034553e-01  2.23005028e+00]\n",
            " [ 4.11699884e-01 -8.71435031e-01]\n",
            " [-3.42254915e-02 -1.27758658e-01]\n",
            " [ 2.73309250e-01  5.03553095e-01]\n",
            " [ 3.46348751e-01 -8.75131236e-01]\n",
            " [-4.68618314e-01 -4.88877851e-01]\n",
            " [-7.10801923e-01  7.14606380e-01]\n",
            " [ 9.26325895e-02  3.83056823e-01]\n",
            " [-5.07060157e-01 -3.02589137e-01]\n",
            " [-3.80202076e-01  1.56066762e+00]\n",
            " [-3.91734629e-01  1.97833875e+00]\n",
            " [-6.22385685e-01 -6.07156399e-01]\n",
            " [-9.83739007e-01 -1.19004787e+00]\n",
            " [-6.99269371e-01  3.57990422e+00]\n",
            " [ 4.23232437e-01 -8.99895807e-01]\n",
            " [ 2.42555776e-01 -7.96402077e-01]\n",
            " [ 4.26581940e-02  1.90484562e-01]\n",
            " [-5.07060157e-01  1.54631377e-01]\n",
            " [-5.53190368e-01 -7.53526103e-01]\n",
            " [-7.76153056e-01 -2.68214434e-01]\n",
            " [-1.05677851e+00  1.39655614e+00]\n",
            " [-1.27589701e+00  7.23846891e-01]\n",
            " [ 4.15544068e-01 -9.03961632e-01]\n",
            " [ 2.26459670e+00 -8.22645130e-01]\n",
            " [ 2.18002465e+00 -8.38538810e-01]\n",
            " [ 1.36890177e+00 -8.81045163e-01]\n",
            " [ 3.38660383e-01 -8.10447655e-01]\n",
            " [-3.95578813e-01  1.39840424e+00]\n",
            " [-3.53292786e-01  7.90378575e-01]\n",
            " [-8.99166953e-01  4.55872055e-01]\n",
            " [-8.03557027e-02  5.48646791e-01]\n",
            " [ 8.61469444e-01 -9.47946467e-01]\n",
            " [-6.22385685e-01 -6.15657670e-01]\n",
            " [ 3.69413857e-01 -7.88270427e-01]\n",
            " [ 2.15695954e+00 -7.89009668e-01]\n",
            " [-1.07984361e+00  1.44651624e-01]\n",
            " [ 4.46297543e-01  8.66212114e-02]\n",
            " [-1.14519475e+00 -1.59176397e-01]\n",
            " [ 4.92427754e-01 -2.30143526e-01]\n",
            " [ 2.04113933e-01  2.10074446e-01]\n",
            " [-5.64722921e-01 -2.64518229e-01]\n",
            " [-4.64774130e-01 -3.36594220e-01]\n",
            " [ 3.07906909e-01 -8.61085658e-01]\n",
            " [ 1.50295354e-01  8.50257090e-01]\n",
            " [-4.64774130e-01  1.71332087e+00]\n",
            " [ 2.23768741e+00 -8.55541351e-01]\n",
            " [-5.33969447e-01  2.66250622e+00]\n",
            " [-3.22539312e-01 -4.55981630e-01]\n",
            " [-4.07111366e-01  7.44915258e-01]\n",
            " [-6.03164764e-01 -5.66498148e-01]\n",
            " [-1.50045701e-02  2.86801520e+00]\n",
            " [ 2.37223386e+00 -6.63338710e-01]\n",
            " [ 2.24537578e+00 -9.10984421e-01]\n",
            " [-4.34020656e-01  1.15371549e+00]\n",
            " [ 3.61725489e-01  3.17634001e-01]\n",
            " [ 4.65518464e-01 -6.54467819e-01]\n",
            " [-1.27205283e+00  1.67629437e-02]\n",
            " [-6.33918238e-01 -2.57495441e-01]\n",
            " [-5.18592710e-01  6.89472188e-01]\n",
            " [ 2.29535018e+00 -9.09875559e-01]\n",
            " [ 7.92274127e-01 -1.09764276e+00]\n",
            " [ 2.39145478e+00 -5.89044997e-01]\n",
            " [-9.37608795e-01  1.19215602e+00]\n",
            " [ 4.07855700e-01  5.55669580e-01]\n",
            " [-3.14850943e-01  1.86042982e+00]\n",
            " [-7.95373977e-01  1.63933232e-02]\n",
            " [ 3.80946410e-01  1.63939678e+00]\n",
            " [-8.60725110e-01 -3.35054394e-02]\n",
            " [ 3.34816199e-01 -8.33364123e-01]\n",
            " [-4.95527604e-01  1.36883460e+00]\n",
            " [ 3.69413857e-01 -9.03961632e-01]\n",
            " [-6.56983344e-01 -5.97176647e-01]\n",
            " [-2.37967258e-01 -3.96103114e-01]\n",
            " [-3.07162575e-01 -7.59440031e-01]\n",
            " [ 2.84841803e-01 -6.16766531e-01]\n",
            " [ 1.84893012e-01 -8.84002127e-01]\n",
            " [ 2.30303855e+00 -8.66260345e-01]\n",
            " [-9.52985533e-01  6.45487353e-01]\n",
            " [ 7.80741574e-01 -9.46467985e-01]\n",
            " [-5.30125263e-01 -9.18746450e-01]\n",
            " [-4.34020656e-01 -5.93480442e-01]\n",
            " [-6.18541501e-01 -1.71004252e-01]\n",
            " [-1.60649686e+00  1.35411113e-01]\n",
            " [-1.39122254e+00  1.30022833e-04]\n",
            " [-2.57188179e-01 -4.94052537e-01]\n",
            " [-1.04140177e+00 -1.24696942e+00]\n",
            " [-4.53241577e-01  5.38667039e-01]\n",
            " [ 4.19388253e-01 -8.48148942e-01]\n",
            " [-1.40659928e+00  3.26874513e-01]\n",
            " [ 2.12620607e+00 -8.15622341e-01]\n",
            " [ 1.41887616e+00 -9.22442655e-01]\n",
            " [ 1.02292518e+00 -9.15050246e-01]\n",
            " [ 2.10314096e+00 -7.35784321e-01]\n",
            " [-6.14697317e-01 -4.14214517e-01]\n",
            " [ 2.30303855e+00 -9.12832523e-01]\n",
            " [-9.95271560e-01  2.25185789e+00]\n",
            " [-5.03215973e-01  9.12353328e-01]\n",
            " [-7.06957739e-01 -2.22751117e-01]\n",
            " [ 1.26895298e+00 -1.35600746e+00]\n",
            " [-5.80099658e-01 -6.51880476e-01]\n",
            " [ 4.26581940e-02 -1.03363707e-01]\n",
            " [ 3.80946410e-01 -8.58498315e-01]\n",
            " [ 3.38660383e-01 -8.71065411e-01]\n",
            " [ 6.07753282e-01 -7.88270427e-01]\n",
            " [ 2.11082933e+00 -8.59607176e-01]\n",
            " [-1.47195041e+00  2.07074386e+00]\n",
            " [ 3.04062724e-01  2.42114406e+00]\n",
            " [-1.24898772e+00  2.54798522e-01]\n",
            " [-3.37916049e-01  1.66896642e+00]\n",
            " [-4.95527604e-01  1.01399896e+00]\n",
            " [ 2.61776697e-01 -8.79936302e-01]\n",
            " [-4.45553209e-01  1.11010028e+00]\n",
            " [ 4.27076621e-01 -8.23753991e-01]\n",
            " [ 2.31841528e+00 -6.55946301e-01]\n",
            " [-4.07111366e-01  6.89102568e-01]\n",
            " [ 6.95674839e-02  1.25942694e+00]\n",
            " [ 2.26459670e+00 -7.31348875e-01]\n",
            " [ 6.18791153e-02 -3.11460028e-01]\n",
            " [ 4.34764990e-01 -8.73283133e-01]\n",
            " [-3.84046260e-01  1.50485493e+00]\n",
            " [-8.29971636e-01 -1.31128338e+00]\n",
            " [-6.22385685e-01 -5.34341168e-01]\n",
            " [-4.53241577e-01  7.29452542e-02]\n",
            " [-3.84046260e-01  1.99423243e+00]\n",
            " [-7.79997240e-01 -2.26816942e-01]\n",
            " [-3.42254915e-02  3.60140355e-01]\n",
            " [ 3.69413857e-01 -8.72913513e-01]\n",
            " [-8.22283267e-01  3.53444090e+00]\n",
            " [ 2.20693394e+00 -9.22442655e-01]\n",
            " [-1.64927757e-01  1.22135604e+00]\n",
            " [ 2.54088329e-01  5.32013870e-01]\n",
            " [ 8.73001997e-01 -1.00265030e+00]\n",
            " [ 2.28766181e+00 -7.42807110e-01]\n",
            " [-1.04140177e+00 -7.26913430e-01]\n",
            " [-8.60725110e-01  1.06648506e+00]\n",
            " [-1.24514354e+00 -3.60619550e-01]\n",
            " [ 4.61674280e-01 -4.02756283e-01]\n",
            " [ 2.38761060e+00 -8.73652754e-01]\n",
            " [-8.64569294e-01 -1.31085242e-01]\n",
            " [-3.57136970e-01  9.51163476e-01]\n",
            " [-1.53730154e+00 -4.62265178e-01]\n",
            " [-3.72513707e-01 -2.17946051e-01]\n",
            " [-1.60265267e+00  3.87122649e-01]\n",
            " [-6.37762422e-01 -6.22680459e-01]\n",
            " [-5.68567105e-01 -1.93551100e-01]\n",
            " [-4.26332287e-01  1.48896125e+00]\n",
            " [ 2.32225947e+00 -7.95662836e-01]\n",
            " [-9.37608795e-01  9.75188807e-01]\n",
            " [-1.30330098e-01  1.21913831e+00]\n",
            " [-1.69875728e+00 -1.92072618e-01]\n",
            " [-1.46426204e+00  1.51779165e+00]\n",
            " [-4.95527604e-01  9.89234384e-01]\n",
            " [-5.14748526e-01 -6.61490608e-01]\n",
            " [-7.06957739e-01  8.14403905e-01]\n",
            " [-1.88487544e-02  9.07548262e-01]\n",
            " [-1.31049467e+00 -1.58437156e-01]\n",
            " [ 2.61776697e-01  1.07979140e+00]\n",
            " [-4.10955550e-01 -4.89247471e-01]\n",
            " [ 3.80946410e-01 -5.45799402e-01]\n",
            " [-1.54883409e+00  1.77917466e-01]\n",
            " [-2.76409101e-01  2.50732697e-01]\n",
            " [-9.18387874e-01 -1.48241766e+00]\n",
            " [-4.07111366e-01  4.23345454e-01]\n",
            " [-7.26673342e-02 -9.33839545e-02]\n",
            " [ 2.16849210e+00 -7.17672918e-01]\n",
            " [ 1.99165962e+00 -9.37597094e-01]\n",
            " [ 2.69465066e-01 -8.42235014e-01]\n",
            " [-1.33355978e+00  4.48110025e-01]\n",
            " [-9.83739007e-01 -6.58164023e-01]\n",
            " [ 2.19924557e+00 -7.11389370e-01]\n",
            " [-4.53241577e-01  7.98140604e-01]\n",
            " [-2.45655626e-01  9.69705844e-02]\n",
            " [-5.33969447e-01  1.32226242e+00]\n",
            " [ 2.32994784e+00 -8.82154025e-01]\n",
            " [ 3.88140097e-02 -2.05378955e-01]\n",
            " [ 1.15697695e-01 -5.43212059e-01]\n",
            " [-1.53730154e+00 -4.36761366e-01]\n",
            " [-1.30280630e+00  9.71862222e-01]\n",
            " [-1.56421083e+00  1.67746769e+00]\n",
            " [-2.84097469e-01  4.38499893e-01]\n",
            " [-5.80099658e-01 -5.81282967e-01]\n",
            " [-4.57085761e-01 -5.63541185e-01]\n",
            " [ 3.61725489e-01 -1.11020985e+00]\n",
            " [ 7.80741574e-01 -9.43141401e-01]\n",
            " [-7.14646108e-01  2.84029367e+00]\n",
            " [-2.41811442e-01 -6.63708330e-01]\n",
            " [ 3.80946410e-01 -9.61252804e-01]\n",
            " [ 2.88685987e-01 -8.04533727e-01]\n",
            " [-2.41811442e-01  1.43795363e+00]\n",
            " [-1.21054588e+00  2.39416177e+00]\n",
            " [ 1.47653893e+00 -9.93040164e-01]\n",
            " [-1.38018467e-01  6.72100026e-01]\n",
            " [ 9.03755471e-01 -8.64781863e-01]\n",
            " [-2.34123074e-01  4.14104942e-01]\n",
            " [ 2.16464791e+00 -8.45561599e-01]\n",
            " [-3.49448602e-01 -3.31358189e-02]\n",
            " [-9.03011137e-01 -1.85049830e-01]\n",
            " [-4.22488103e-01  1.74436899e+00]\n",
            " [-1.57239388e-01  3.45047260e-02]\n",
            " [-6.22385685e-01 -5.92001960e-01]\n",
            " [-1.17594822e+00 -5.69085492e-01]\n",
            " [-1.56805502e+00 -2.33100490e-01]\n",
            " [ 2.38761060e+00 -8.29298298e-01]\n",
            " [-1.76460310e-01 -5.32862686e-01]\n",
            " [ 3.07906909e-01 -8.35212226e-01]\n",
            " [ 1.84942480e+00 -8.91394536e-01]\n",
            " [-1.49551020e-01  6.53619003e-01]\n",
            " [ 3.38660383e-01  4.77679662e-01]\n",
            " [-1.99525415e-01  3.33958646e-02]\n",
            " [ 5.03960307e-01  3.42768193e-01]\n",
            " [-1.01833667e+00 -6.43748825e-01]\n",
            " [-7.10801923e-01  5.81912633e-01]\n",
            " [ 7.03857889e-01 -8.76979338e-01]\n",
            " [ 2.32994784e+00 -7.83465361e-01]\n",
            " [ 3.88634778e-01 -9.88235098e-01]\n",
            " [ 3.69413857e-01 -8.64781863e-01]\n",
            " [ 3.34816199e-01 -8.17470443e-01]\n",
            " [-1.11603858e-02  1.11527496e+00]\n",
            " [-9.18882556e-02  1.25018643e+00]\n",
            " [-9.57324398e-02  2.81411196e-01]\n",
            " [ 1.31074432e-01  1.20435349e+00]\n",
            " [-4.64774130e-01 -4.80376580e-01]\n",
            " [-3.87890445e-01  2.17978190e+00]\n",
            " [-5.34464128e-02  6.28854432e-01]\n",
            " [-4.14799734e-01 -3.55814484e-01]\n",
            " [-1.30330098e-01  1.25794846e+00]\n",
            " [-1.53345736e+00 -1.45870060e-01]\n",
            " [-3.91734629e-01  2.13770651e-01]\n",
            " [-8.29971636e-01 -5.36928511e-01]\n",
            " [-1.41862651e-01 -7.60117927e-02]\n",
            " [ 2.32225947e+00 -8.33733744e-01]\n",
            " [-8.03557027e-02  5.24621461e-01]\n",
            " [-8.53036741e-01  9.72231843e-01]\n",
            " [-5.76255474e-01 -4.58938593e-01]\n",
            " [ 2.34372726e-02 -2.01682750e-01]\n",
            " [ 4.11699884e-01 -8.49997044e-01]\n",
            " [-9.33764611e-01  2.93639499e+00]\n",
            " [ 5.92376545e-01 -9.29465444e-01]\n",
            " [ 5.03960307e-01 -1.18887767e-01]\n",
            " [ 3.61725489e-01  1.49826311e-01]\n",
            " [ 4.34764990e-01  6.44439836e-02]\n",
            " [-8.22283267e-01 -8.82523645e-01]\n",
            " [ 2.31457110e+00 -9.28726203e-01]\n",
            " [-2.14902152e-01 -5.35080409e-01]\n",
            " [ 1.57983722e-01  2.48102258e+00]\n",
            " [ 5.03960307e-01 -2.79611324e-02]\n",
            " [-3.34071865e-01  9.02003955e-01]\n",
            " [ 3.65569673e-01 -8.58867935e-01]\n",
            " [-5.26281078e-01  1.16221676e+00]\n",
            " [ 1.23386064e-01  2.44627825e+00]\n",
            " [-4.34020656e-01 -6.31181730e-01]\n",
            " [-6.45450791e-01  2.44295167e+00]\n",
            " [-2.26929387e-02 -6.25637423e-01]\n",
            " [ 1.44578545e+00 -6.59272885e-01]\n",
            " [-2.26929387e-02  2.05269380e-01]\n",
            " [ 2.34916876e+00 -8.10078034e-01]\n",
            " [-1.49501551e+00  2.18347810e+00]\n",
            " [-5.37813631e-01 -5.66128528e-01]\n",
            " [-2.37967258e-01  1.47898150e+00]\n",
            " [ 1.37274595e+00 -9.12832523e-01]\n",
            " [-3.76357892e-01  1.01510782e+00]\n",
            " [-1.29511793e+00  1.11453572e+00]\n",
            " [ 4.15544068e-01 -1.10170858e+00]\n",
            " [-1.22641730e-01  2.65887136e-01]\n",
            " [ 3.07906909e-01  4.79527765e-01]\n",
            " [-1.35662488e+00  1.03321922e+00]\n",
            " [ 7.57676469e-01 -8.11926136e-01]\n",
            " [ 1.81048828e-01  4.40347995e-01]\n",
            " [ 7.61520653e-01 -9.97845230e-01]\n",
            " [-8.03062346e-01  9.68905259e-01]\n",
            " [ 7.84585758e-01 -1.10540478e+00]\n",
            " [-1.30280630e+00 -4.32695540e-01]\n",
            " [-3.22539312e-01 -3.14047371e-01]\n",
            " [-9.57324398e-02  1.43684477e+00]\n",
            " [ 3.00218540e-01 -2.36796695e-01]\n",
            " [-5.99320579e-01  2.48471878e+00]\n",
            " [ 1.04165142e-01  3.65684662e-01]\n",
            " [-2.65371229e-02 -3.13308131e-01]\n",
            " [-3.03318391e-01  8.75391281e-01]\n",
            " [-1.44888530e+00  2.09255147e+00]\n",
            " [-5.49346184e-01 -6.56685542e-01]\n",
            " [-1.44119694e+00  2.30773192e-01]\n",
            " [-1.88487544e-02  2.28555470e-01]\n",
            " [ 2.73309250e-01 -9.71602177e-01]\n",
            " [-4.10955550e-01  1.04467745e+00]\n",
            " [-4.49397393e-01 -3.74295507e-01]\n",
            " [-1.47963878e+00  1.22579148e+00]\n",
            " [ 2.25306415e+00 -7.80508397e-01]\n",
            " [ 4.34764990e-01 -7.86052704e-01]\n",
            " [ 2.34532457e+00 -5.93480442e-01]\n",
            " [-1.00680411e+00  3.82009306e-02]\n",
            " [-1.16057148e+00  3.15046658e-01]\n",
            " [ 3.57881304e-01 -8.69586929e-01]\n",
            " [ 2.20308975e+00 -7.72007126e-01]], shape=(499, 2), dtype=float64)\n"
          ]
        }
      ]
    },
    {
      "cell_type": "code",
      "source": [
        "X_test[:5]"
      ],
      "metadata": {
        "colab": {
          "base_uri": "https://localhost:8080/"
        },
        "id": "8cSH0o1EkZ4U",
        "outputId": "f14c0657-e742-43d2-9445-fab0471bc776"
      },
      "execution_count": 55,
      "outputs": [
        {
          "output_type": "execute_result",
          "data": {
            "text/plain": [
              "<tf.Tensor: shape=(5, 2), dtype=float64, numpy=\n",
              "array([[ 0.84993689, -0.99230092],\n",
              "       [-0.6185415 , -0.66001213],\n",
              "       [-0.50706016, -0.58682727],\n",
              "       [-0.64929498, -0.18874603],\n",
              "       [-0.9376088 ,  3.26055214]])>"
            ]
          },
          "metadata": {},
          "execution_count": 55
        }
      ]
    },
    {
      "cell_type": "code",
      "source": [
        "preds[:5]"
      ],
      "metadata": {
        "colab": {
          "base_uri": "https://localhost:8080/"
        },
        "id": "mX0zcmJwk3yo",
        "outputId": "a69ebc1b-8a8b-48e1-c07f-c014434d73e8"
      },
      "execution_count": 56,
      "outputs": [
        {
          "output_type": "execute_result",
          "data": {
            "text/plain": [
              "array([131.4113, 131.4113, 131.4113, 131.4113, 131.4113], dtype=float32)"
            ]
          },
          "metadata": {},
          "execution_count": 56
        }
      ]
    },
    {
      "cell_type": "code",
      "source": [
        "preds = global_model.evaluate(X_test, Y_test)"
      ],
      "metadata": {
        "colab": {
          "base_uri": "https://localhost:8080/"
        },
        "id": "Z00dT9qulIjd",
        "outputId": "19573330-69c8-473f-8dd7-aae1278f7941"
      },
      "execution_count": 61,
      "outputs": [
        {
          "output_type": "stream",
          "name": "stdout",
          "text": [
            "16/16 [==============================] - 4s 8ms/step - loss: 629.2258\n"
          ]
        }
      ]
    },
    {
      "cell_type": "code",
      "source": [
        "preds"
      ],
      "metadata": {
        "colab": {
          "base_uri": "https://localhost:8080/"
        },
        "id": "htsf0PxvlOJU",
        "outputId": "25b247bc-bbf0-48da-baa9-ab8f63f6f4b7"
      },
      "execution_count": 62,
      "outputs": [
        {
          "output_type": "execute_result",
          "data": {
            "text/plain": [
              "629.2257690429688"
            ]
          },
          "metadata": {},
          "execution_count": 62
        }
      ]
    },
    {
      "cell_type": "code",
      "source": [
        "global_model.predict(X_test[0:5])"
      ],
      "metadata": {
        "colab": {
          "base_uri": "https://localhost:8080/"
        },
        "id": "QEAbdhLPk8js",
        "outputId": "9954cac8-ec8d-44df-b592-37530f47b543"
      },
      "execution_count": 58,
      "outputs": [
        {
          "output_type": "execute_result",
          "data": {
            "text/plain": [
              "array([[131.4113],\n",
              "       [131.4113],\n",
              "       [131.4113],\n",
              "       [131.4113],\n",
              "       [131.4113]], dtype=float32)"
            ]
          },
          "metadata": {},
          "execution_count": 58
        }
      ]
    },
    {
      "cell_type": "code",
      "source": [
        "global_r2 = r2_score(Y_test, logits)"
      ],
      "metadata": {
        "id": "qmWvp4sMisxA"
      },
      "execution_count": 49,
      "outputs": []
    },
    {
      "cell_type": "code",
      "source": [
        "print(logits.flatten().shape)"
      ],
      "metadata": {
        "colab": {
          "base_uri": "https://localhost:8080/"
        },
        "id": "-GFx7UfsgxVP",
        "outputId": "2654297a-4363-4968-9920-027db523e30e"
      },
      "execution_count": 40,
      "outputs": [
        {
          "output_type": "stream",
          "name": "stdout",
          "text": [
            "(499,)\n"
          ]
        }
      ]
    },
    {
      "cell_type": "code",
      "source": [
        "print(Y_test.shape)"
      ],
      "metadata": {
        "colab": {
          "base_uri": "https://localhost:8080/"
        },
        "id": "Ucvnh_2ChBMO",
        "outputId": "64d9189e-2af1-46c9-858f-e8ffc3cfbc6d"
      },
      "execution_count": 41,
      "outputs": [
        {
          "output_type": "stream",
          "name": "stdout",
          "text": [
            "(499,)\n"
          ]
        }
      ]
    },
    {
      "cell_type": "code",
      "source": [
        "global_loss"
      ],
      "metadata": {
        "colab": {
          "base_uri": "https://localhost:8080/"
        },
        "id": "nCHCbP6BKuH2",
        "outputId": "da42dad6-62ba-49a2-a830-10b3e5268a2d"
      },
      "execution_count": 82,
      "outputs": [
        {
          "output_type": "execute_result",
          "data": {
            "text/plain": [
              "0"
            ]
          },
          "metadata": {},
          "execution_count": 82
        }
      ]
    },
    {
      "cell_type": "code",
      "execution_count": null,
      "metadata": {
        "id": "HlcC6kZlqJsV",
        "colab": {
          "base_uri": "https://localhost:8080/"
        },
        "outputId": "bb4a19da-b13e-4696-a8c9-ecb81b947879"
      },
      "outputs": [
        {
          "output_type": "stream",
          "name": "stdout",
          "text": [
            "Precision: 0.0\n",
            "[0. 0.]\n",
            "[0.00833275 0.00833275]\n"
          ]
        },
        {
          "output_type": "stream",
          "name": "stderr",
          "text": [
            "/usr/local/lib/python3.7/dist-packages/sklearn/metrics/_classification.py:1318: UndefinedMetricWarning: Precision is ill-defined and being set to 0.0 in labels with no predicted samples. Use `zero_division` parameter to control this behavior.\n",
            "  _warn_prf(average, modifier, msg_start, len(result))\n"
          ]
        }
      ],
      "source": [
        "y_pred = global_model.predict(X_test)\n",
        "# Model Precision: what percentage of positives are labeled as such?\n",
        "print(\"Precision:\",precision_score(tf.argmax(y_pred, axis=1), tf.argmax(y_test, axis=1), average='weighted'))\n",
        "# print(\"MAP\", average_precision_score(tf.argmax(y_pred, axis=1), tf.argmax(Y_test, axis=1), average='macro', pos_label=1, sample_weight=None))\n",
        "global_prec= np.array(global_precision_list)\n",
        "global_acc = np.array(global_acc_list)\n",
        "print(global_prec)\n",
        "print(global_acc)\n",
        "\n"
      ]
    },
    {
      "cell_type": "code",
      "execution_count": null,
      "metadata": {
        "id": "A-LG6_OO7rma",
        "colab": {
          "base_uri": "https://localhost:8080/",
          "height": 284
        },
        "outputId": "4562e272-92e6-4fee-ec06-8e93f345cb64"
      },
      "outputs": [
        {
          "output_type": "execute_result",
          "data": {
            "text/plain": [
              "[<matplotlib.lines.Line2D at 0x7fca381b1750>]"
            ]
          },
          "metadata": {},
          "execution_count": 115
        },
        {
          "output_type": "display_data",
          "data": {
            "text/plain": [
              "<Figure size 432x288 with 1 Axes>"
            ],
            "image/png": "[encoded data removed]"
          },
          "metadata": {
            "needs_background": "light"
          }
        }
      ],
      "source": [
        "plt.plot(global_prec)\n",
        "plt.plot(global_acc)\n"
      ]
    },
    {
      "cell_type": "code",
      "source": [
        ""
      ],
      "metadata": {
        "id": "uSIYBsN-A38Y"
      },
      "execution_count": null,
      "outputs": []
    },
    {
      "cell_type": "markdown",
      "source": [
        "**Saving and Loading Models**"
      ],
      "metadata": {
        "id": "e5PPGkYfA6Bu"
      }
    },
    {
      "cell_type": "code",
      "source": [
        "#s\n",
        "global_model.save(\"/content/drive/MyDrive/global_model/\")\n"
      ],
      "metadata": {
        "colab": {
          "base_uri": "https://localhost:8080/"
        },
        "id": "opKMMu1rA42M",
        "outputId": "511fa840-9f70-4da8-c3b8-81d58cb33512"
      },
      "execution_count": null,
      "outputs": [
        {
          "output_type": "stream",
          "name": "stderr",
          "text": [
            "WARNING:absl:Found untraced functions such as lstm_cell_layer_call_fn, lstm_cell_layer_call_and_return_conditional_losses, lstm_cell_1_layer_call_fn, lstm_cell_1_layer_call_and_return_conditional_losses, lstm_cell_2_layer_call_fn while saving (showing 5 of 8). These functions will not be directly callable after loading.\n"
          ]
        },
        {
          "output_type": "stream",
          "name": "stdout",
          "text": [
            "INFO:tensorflow:Assets written to: /content/drive/MyDrive/global_model/assets\n"
          ]
        },
        {
          "output_type": "stream",
          "name": "stderr",
          "text": [
            "INFO:tensorflow:Assets written to: /content/drive/MyDrive/global_model/assets\n",
            "WARNING:absl:<keras.layers.recurrent.LSTMCell object at 0x7fca2fce0c10> has the same name 'LSTMCell' as a built-in Keras object. Consider renaming <class 'keras.layers.recurrent.LSTMCell'> to avoid naming conflicts when loading with `tf.keras.models.load_model`. If renaming is not possible, pass the object in the `custom_objects` parameter of the load function.\n",
            "WARNING:absl:<keras.layers.recurrent.LSTMCell object at 0x7fca2fc8f0d0> has the same name 'LSTMCell' as a built-in Keras object. Consider renaming <class 'keras.layers.recurrent.LSTMCell'> to avoid naming conflicts when loading with `tf.keras.models.load_model`. If renaming is not possible, pass the object in the `custom_objects` parameter of the load function.\n",
            "WARNING:absl:<keras.layers.recurrent.LSTMCell object at 0x7fca30179090> has the same name 'LSTMCell' as a built-in Keras object. Consider renaming <class 'keras.layers.recurrent.LSTMCell'> to avoid naming conflicts when loading with `tf.keras.models.load_model`. If renaming is not possible, pass the object in the `custom_objects` parameter of the load function.\n",
            "WARNING:absl:<keras.layers.recurrent.LSTMCell object at 0x7fca303f6f90> has the same name 'LSTMCell' as a built-in Keras object. Consider renaming <class 'keras.layers.recurrent.LSTMCell'> to avoid naming conflicts when loading with `tf.keras.models.load_model`. If renaming is not possible, pass the object in the `custom_objects` parameter of the load function.\n"
          ]
        }
      ]
    },
    {
      "cell_type": "code",
      "source": [
        "#s\n",
        "import tensorflow as tf\n",
        "global_model = tf.keras.models.load_model(\"/content/drive/MyDrive/global_model/\")"
      ],
      "metadata": {
        "id": "UepWRfJCBJL0"
      },
      "execution_count": null,
      "outputs": []
    },
    {
      "cell_type": "code",
      "execution_count": null,
      "metadata": {
        "id": "1-ioCUhfJjQI"
      },
      "outputs": [],
      "source": [
        "# # precision recall curve\n",
        "# precision = dict()\n",
        "# recall = dict()\n",
        "# for i in range(6):\n",
        "#     precision[i], recall[i], _ = precision_recall_curve(y_test[:, i], y_pred[:, i])\n",
        "#     plt.plot(recall[i], precision[i], lw=2, label='class {}'.format(i))\n",
        "#     print(recall[i])\n",
        "# plt.xlabel(\"recall\")\n",
        "# plt.ylabel(\"precision\")\n",
        "# plt.legend(loc=\"best\")\n",
        "# plt.title(\"precision vs. recall curve\")\n",
        "# plt.show()"
      ]
    },
    {
      "cell_type": "code",
      "execution_count": null,
      "metadata": {
        "id": "7shLUPGzxAQi",
        "colab": {
          "base_uri": "https://localhost:8080/"
        },
        "outputId": "e69376bb-5957-4469-f0e9-a52d98d8a486"
      },
      "outputs": [
        {
          "output_type": "stream",
          "name": "stdout",
          "text": [
            "['altitude', 'heart_rate', 'speed']\n",
            "Precision for Attack 1: 0.0\n",
            "Precision for Attack 2: 0.0\n",
            "Precision for Attack 4: 0.0\n",
            "Precision for each round: [0. 0.]\n"
          ]
        },
        {
          "output_type": "stream",
          "name": "stderr",
          "text": [
            "/usr/local/lib/python3.7/dist-packages/sklearn/metrics/_classification.py:1318: UndefinedMetricWarning: Precision is ill-defined and being set to 0.0 in labels with no predicted samples. Use `zero_division` parameter to control this behavior.\n",
            "  _warn_prf(average, modifier, msg_start, len(result))\n",
            "/usr/local/lib/python3.7/dist-packages/sklearn/metrics/_classification.py:1318: UndefinedMetricWarning: Precision is ill-defined and being set to 0.0 in labels with no predicted samples. Use `zero_division` parameter to control this behavior.\n",
            "  _warn_prf(average, modifier, msg_start, len(result))\n",
            "/usr/local/lib/python3.7/dist-packages/sklearn/metrics/_classification.py:1318: UndefinedMetricWarning: Precision is ill-defined and being set to 0.0 in labels with no predicted samples. Use `zero_division` parameter to control this behavior.\n",
            "  _warn_prf(average, modifier, msg_start, len(result))\n"
          ]
        }
      ],
      "source": [
        "attack1 = pd.read_csv('drive/My Drive/endomondo/user1.csv')\n",
        "# attack1 = pd.read_csv(\"Attack1.csv\")\n",
        "\n",
        "print(model_features)\n",
        "X1= dataset[model_features].values\n",
        "y1= dataset[['heart_rate']].values\n",
        "\n",
        "# X1 = attack1.iloc[:,:6].values\n",
        "# y1 = attack1.iloc[:,6:7].values\n",
        "#Normalizing the data\n",
        "from sklearn.preprocessing import StandardScaler\n",
        "sc = StandardScaler()\n",
        "X1 = sc.fit_transform(X1)\n",
        "lb = LabelBinarizer()\n",
        "y1 = lb.fit_transform(y1)\n",
        "from sklearn.model_selection import train_test_split\n",
        "X_train1,X_test1,y_train1,y_test1 = train_test_split(X1,y1,test_size=0.1,random_state=109)\n",
        "y1_pred = global_model.predict(X_test1)\n",
        "\n",
        "\n",
        "\n",
        "attack1 = pd.read_csv('drive/My Drive/endomondo/user2.csv')\n",
        "# attack2 = pd.read_csv(\"Attack2.csv\")\n",
        "\n",
        "# X2 = attack1.iloc[:,:6].values\n",
        "# y2 = attack1.iloc[:,6:7].values\n",
        "X2= dataset[model_features].values\n",
        "y2= dataset[['heart_rate']].values\n",
        "#Normalizing the data\n",
        "from sklearn.preprocessing import StandardScaler\n",
        "sc = StandardScaler()\n",
        "X2 = sc.fit_transform(X2)\n",
        "lb = LabelBinarizer()\n",
        "y2 = lb.fit_transform(y2)\n",
        "from sklearn.model_selection import train_test_split\n",
        "X_train2,X_test2,y_train2,y_test2 = train_test_split(X2,y2,test_size=0.1,random_state=109)\n",
        "y2_pred = global_model.predict(X_test2)\n",
        "\n",
        "\n",
        "# attack4 = pd.read_csv(\"Attack4.csv\")\n",
        "attack1 = pd.read_csv('drive/My Drive/endomondo/user3.csv')\n",
        "\n",
        "# X4 = attack1.iloc[:,:6].values\n",
        "# y4 = attack1.iloc[:,6:7].values\n",
        "X4= dataset[model_features].values\n",
        "y4= dataset[['heart_rate']].values\n",
        "#Normalizing the data\n",
        "from sklearn.preprocessing import StandardScaler\n",
        "sc = StandardScaler()\n",
        "X4 = sc.fit_transform(X4)\n",
        "lb = LabelBinarizer()\n",
        "y4 = lb.fit_transform(y4)\n",
        "from sklearn.model_selection import train_test_split\n",
        "X_train4,X_test4,y_train4,y_test4 = train_test_split(X4,y4,test_size=0.1,random_state=109)\n",
        "y4_pred = global_model.predict(X_test4)\n",
        "\n",
        "\n",
        "\n",
        "\n",
        "\n",
        "# attack8 = pd.read_csv(\"Attack8.csv\")\n",
        "# X8 = attack1.iloc[:,:6].values\n",
        "# y8 = attack1.iloc[:,6:7].values\n",
        "# #Normalizing the data\n",
        "# from sklearn.preprocessing import StandardScaler\n",
        "# sc = StandardScaler()\n",
        "# X8 = sc.fit_transform(X8)\n",
        "# lb = LabelBinarizer()\n",
        "# y8 = lb.fit_transform(y8)\n",
        "# from sklearn.model_selection import train_test_split\n",
        "# X_train8,X_test8,y_train8,y_test8 = train_test_split(X8,y8,test_size=0.1,random_state=109)\n",
        "# y8_pred = global_model.predict(X_test8)\n",
        "\n",
        "\n",
        "\n",
        "# attack16 = pd.read_csv(\"Attack16.csv\")\n",
        "# X16 = attack1.iloc[:,:6].values\n",
        "# y16 = attack1.iloc[:,6:7].values\n",
        "# #Normalizing the data\n",
        "# from sklearn.preprocessing import StandardScaler\n",
        "# sc = StandardScaler()\n",
        "# X16 = sc.fit_transform(X16)\n",
        "# lb = LabelBinarizer()\n",
        "# y16 = lb.fit_transform(y16)\n",
        "# from sklearn.model_selection import train_test_split\n",
        "# X_train16,X_test16,y_train16,y_test16 = train_test_split(X16,y16,test_size=0.1,random_state=109)\n",
        "# y16_pred = global_model.predict(X_test16)\n",
        "\n",
        "\n",
        "print(\"Precision for Attack 1:\",precision_score(tf.argmax(y1_pred, axis=1), tf.argmax(y_test1, axis=1), average='weighted'))\n",
        "print(\"Precision for Attack 2:\",precision_score(tf.argmax(y2_pred, axis=1), tf.argmax(y_test2, axis=1), average='weighted'))\n",
        "print(\"Precision for Attack 4:\",precision_score(tf.argmax(y4_pred, axis=1), tf.argmax(y_test4, axis=1), average='weighted'))\n",
        "# print(\"Precision for Attack 8:\",precision_score(tf.argmax(y8_pred, axis=1), tf.argmax(y_test8, axis=1), average='weighted'))\n",
        "# print(\"Precision for Attack 16:\",precision_score(tf.argmax(y16_pred, axis=1), tf.argmax(y_test16, axis=1), average='weighted'))\n",
        "\n",
        "# print(\"MAP\", average_precision_score(tf.argmax(y_pred, axis=1), tf.argmax(Y_test, axis=1), average='macro', pos_label=1, sample_weight=None))\n",
        "global_prec= np.array(global_precision_list)\n",
        "print(f\"Precision for each round: {global_prec}\")"
      ]
    }
  ],
  "metadata": {
    "accelerator": "GPU",
    "colab": {
      "collapsed_sections": [],
      "name": "Heart Rate Preds using Federated Learning.ipynb",
      "provenance": [],
      "include_colab_link": true
    },
    "kernelspec": {
      "display_name": "Python 3",
      "name": "python3"
    }
  },
  "nbformat": 4,
  "nbformat_minor": 0
}